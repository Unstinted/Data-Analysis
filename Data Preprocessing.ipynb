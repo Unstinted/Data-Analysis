{
 "cells": [
  {
   "cell_type": "code",
   "execution_count": 1,
   "id": "222818df",
   "metadata": {},
   "outputs": [
    {
     "name": "stdout",
     "output_type": "stream",
     "text": [
      "Requirement already satisfied: pandas in c:\\users\\ebene\\anaconda3\\lib\\site-packages (1.4.2)\n",
      "Requirement already satisfied: python-dateutil>=2.8.1 in c:\\users\\ebene\\anaconda3\\lib\\site-packages (from pandas) (2.8.2)\n",
      "Requirement already satisfied: numpy>=1.18.5 in c:\\users\\ebene\\anaconda3\\lib\\site-packages (from pandas) (1.22.4)\n",
      "Requirement already satisfied: pytz>=2020.1 in c:\\users\\ebene\\anaconda3\\lib\\site-packages (from pandas) (2021.3)\n",
      "Requirement already satisfied: six>=1.5 in c:\\users\\ebene\\anaconda3\\lib\\site-packages (from python-dateutil>=2.8.1->pandas) (1.16.0)\n"
     ]
    }
   ],
   "source": [
    "!pip install pandas"
   ]
  },
  {
   "cell_type": "code",
   "execution_count": 2,
   "id": "6817826a",
   "metadata": {},
   "outputs": [],
   "source": [
    "import pandas as pd"
   ]
  },
  {
   "cell_type": "code",
   "execution_count": 3,
   "id": "9a26e707",
   "metadata": {},
   "outputs": [],
   "source": [
    "#we load the file into a Data Frame\n",
    "df = pd.read_csv('Car Insurance (1).csv')"
   ]
  },
  {
   "cell_type": "code",
   "execution_count": 4,
   "id": "c594e929",
   "metadata": {},
   "outputs": [
    {
     "data": {
      "text/html": [
       "<div>\n",
       "<style scoped>\n",
       "    .dataframe tbody tr th:only-of-type {\n",
       "        vertical-align: middle;\n",
       "    }\n",
       "\n",
       "    .dataframe tbody tr th {\n",
       "        vertical-align: top;\n",
       "    }\n",
       "\n",
       "    .dataframe thead th {\n",
       "        text-align: right;\n",
       "    }\n",
       "</style>\n",
       "<table border=\"1\" class=\"dataframe\">\n",
       "  <thead>\n",
       "    <tr style=\"text-align: right;\">\n",
       "      <th></th>\n",
       "      <th>Make</th>\n",
       "      <th>Age</th>\n",
       "      <th>Mileage</th>\n",
       "      <th>Fuel</th>\n",
       "      <th>Gearbox</th>\n",
       "      <th>Colour</th>\n",
       "      <th>Claimed</th>\n",
       "    </tr>\n",
       "  </thead>\n",
       "  <tbody>\n",
       "    <tr>\n",
       "      <th>0</th>\n",
       "      <td>Toyota</td>\n",
       "      <td>2.0</td>\n",
       "      <td>27000.0</td>\n",
       "      <td>P</td>\n",
       "      <td>A</td>\n",
       "      <td>Red</td>\n",
       "      <td>Yes</td>\n",
       "    </tr>\n",
       "    <tr>\n",
       "      <th>1</th>\n",
       "      <td>Ford</td>\n",
       "      <td>4.0</td>\n",
       "      <td>30500.0</td>\n",
       "      <td>P</td>\n",
       "      <td>M</td>\n",
       "      <td>Black</td>\n",
       "      <td>Yes</td>\n",
       "    </tr>\n",
       "    <tr>\n",
       "      <th>2</th>\n",
       "      <td>Toyota</td>\n",
       "      <td>15.0</td>\n",
       "      <td>120000.0</td>\n",
       "      <td>D</td>\n",
       "      <td>A</td>\n",
       "      <td>White</td>\n",
       "      <td>No</td>\n",
       "    </tr>\n",
       "    <tr>\n",
       "      <th>3</th>\n",
       "      <td>Nissan</td>\n",
       "      <td>13.0</td>\n",
       "      <td>53000.0</td>\n",
       "      <td>D</td>\n",
       "      <td>M</td>\n",
       "      <td>White</td>\n",
       "      <td>No</td>\n",
       "    </tr>\n",
       "    <tr>\n",
       "      <th>4</th>\n",
       "      <td>Nissan</td>\n",
       "      <td>2.0</td>\n",
       "      <td>NaN</td>\n",
       "      <td>D</td>\n",
       "      <td>M</td>\n",
       "      <td>Black</td>\n",
       "      <td>No</td>\n",
       "    </tr>\n",
       "    <tr>\n",
       "      <th>5</th>\n",
       "      <td>Ford</td>\n",
       "      <td>8.0</td>\n",
       "      <td>73000.0</td>\n",
       "      <td>NaN</td>\n",
       "      <td>M</td>\n",
       "      <td>Green</td>\n",
       "      <td>No</td>\n",
       "    </tr>\n",
       "    <tr>\n",
       "      <th>6</th>\n",
       "      <td>Toyota</td>\n",
       "      <td>NaN</td>\n",
       "      <td>138000.0</td>\n",
       "      <td>P</td>\n",
       "      <td>M</td>\n",
       "      <td>NaN</td>\n",
       "      <td>Yes</td>\n",
       "    </tr>\n",
       "    <tr>\n",
       "      <th>7</th>\n",
       "      <td>Nissan</td>\n",
       "      <td>20.0</td>\n",
       "      <td>38000.0</td>\n",
       "      <td>D</td>\n",
       "      <td>NaN</td>\n",
       "      <td>Green</td>\n",
       "      <td>Yes</td>\n",
       "    </tr>\n",
       "    <tr>\n",
       "      <th>8</th>\n",
       "      <td>Toyota</td>\n",
       "      <td>13.0</td>\n",
       "      <td>67000.0</td>\n",
       "      <td>D</td>\n",
       "      <td>A</td>\n",
       "      <td>Blue</td>\n",
       "      <td>No</td>\n",
       "    </tr>\n",
       "    <tr>\n",
       "      <th>9</th>\n",
       "      <td>Nissan</td>\n",
       "      <td>7.0</td>\n",
       "      <td>36000.0</td>\n",
       "      <td>P</td>\n",
       "      <td>M</td>\n",
       "      <td>Black</td>\n",
       "      <td>Yes</td>\n",
       "    </tr>\n",
       "  </tbody>\n",
       "</table>\n",
       "</div>"
      ],
      "text/plain": [
       "     Make   Age   Mileage Fuel Gearbox Colour Claimed\n",
       "0  Toyota   2.0   27000.0    P       A    Red     Yes\n",
       "1    Ford   4.0   30500.0    P       M  Black     Yes\n",
       "2  Toyota  15.0  120000.0    D       A  White      No\n",
       "3  Nissan  13.0   53000.0    D       M  White      No\n",
       "4  Nissan   2.0       NaN    D       M  Black      No\n",
       "5    Ford   8.0   73000.0  NaN       M  Green      No\n",
       "6  Toyota   NaN  138000.0    P       M    NaN     Yes\n",
       "7  Nissan  20.0   38000.0    D     NaN  Green     Yes\n",
       "8  Toyota  13.0   67000.0    D       A   Blue      No\n",
       "9  Nissan   7.0   36000.0    P       M  Black     Yes"
      ]
     },
     "execution_count": 4,
     "metadata": {},
     "output_type": "execute_result"
    }
   ],
   "source": [
    "#show the content of the data frame\n",
    "df"
   ]
  },
  {
   "cell_type": "code",
   "execution_count": 5,
   "id": "daacbe57",
   "metadata": {},
   "outputs": [
    {
     "data": {
      "text/html": [
       "<div>\n",
       "<style scoped>\n",
       "    .dataframe tbody tr th:only-of-type {\n",
       "        vertical-align: middle;\n",
       "    }\n",
       "\n",
       "    .dataframe tbody tr th {\n",
       "        vertical-align: top;\n",
       "    }\n",
       "\n",
       "    .dataframe thead th {\n",
       "        text-align: right;\n",
       "    }\n",
       "</style>\n",
       "<table border=\"1\" class=\"dataframe\">\n",
       "  <thead>\n",
       "    <tr style=\"text-align: right;\">\n",
       "      <th></th>\n",
       "      <th>Make</th>\n",
       "      <th>Age</th>\n",
       "      <th>Mileage</th>\n",
       "      <th>Fuel</th>\n",
       "      <th>Gearbox</th>\n",
       "      <th>Colour</th>\n",
       "      <th>Claimed</th>\n",
       "    </tr>\n",
       "  </thead>\n",
       "  <tbody>\n",
       "    <tr>\n",
       "      <th>0</th>\n",
       "      <td>Toyota</td>\n",
       "      <td>2.0</td>\n",
       "      <td>27000.0</td>\n",
       "      <td>P</td>\n",
       "      <td>A</td>\n",
       "      <td>Red</td>\n",
       "      <td>Yes</td>\n",
       "    </tr>\n",
       "    <tr>\n",
       "      <th>1</th>\n",
       "      <td>Ford</td>\n",
       "      <td>4.0</td>\n",
       "      <td>30500.0</td>\n",
       "      <td>P</td>\n",
       "      <td>M</td>\n",
       "      <td>Black</td>\n",
       "      <td>Yes</td>\n",
       "    </tr>\n",
       "    <tr>\n",
       "      <th>2</th>\n",
       "      <td>Toyota</td>\n",
       "      <td>15.0</td>\n",
       "      <td>120000.0</td>\n",
       "      <td>D</td>\n",
       "      <td>A</td>\n",
       "      <td>White</td>\n",
       "      <td>No</td>\n",
       "    </tr>\n",
       "    <tr>\n",
       "      <th>3</th>\n",
       "      <td>Nissan</td>\n",
       "      <td>13.0</td>\n",
       "      <td>53000.0</td>\n",
       "      <td>D</td>\n",
       "      <td>M</td>\n",
       "      <td>White</td>\n",
       "      <td>No</td>\n",
       "    </tr>\n",
       "    <tr>\n",
       "      <th>4</th>\n",
       "      <td>Nissan</td>\n",
       "      <td>2.0</td>\n",
       "      <td>NaN</td>\n",
       "      <td>D</td>\n",
       "      <td>M</td>\n",
       "      <td>Black</td>\n",
       "      <td>No</td>\n",
       "    </tr>\n",
       "    <tr>\n",
       "      <th>5</th>\n",
       "      <td>Ford</td>\n",
       "      <td>8.0</td>\n",
       "      <td>73000.0</td>\n",
       "      <td>NaN</td>\n",
       "      <td>M</td>\n",
       "      <td>Green</td>\n",
       "      <td>No</td>\n",
       "    </tr>\n",
       "    <tr>\n",
       "      <th>6</th>\n",
       "      <td>Toyota</td>\n",
       "      <td>NaN</td>\n",
       "      <td>138000.0</td>\n",
       "      <td>P</td>\n",
       "      <td>M</td>\n",
       "      <td>NaN</td>\n",
       "      <td>Yes</td>\n",
       "    </tr>\n",
       "    <tr>\n",
       "      <th>7</th>\n",
       "      <td>Nissan</td>\n",
       "      <td>20.0</td>\n",
       "      <td>38000.0</td>\n",
       "      <td>D</td>\n",
       "      <td>NaN</td>\n",
       "      <td>Green</td>\n",
       "      <td>Yes</td>\n",
       "    </tr>\n",
       "    <tr>\n",
       "      <th>8</th>\n",
       "      <td>Toyota</td>\n",
       "      <td>13.0</td>\n",
       "      <td>67000.0</td>\n",
       "      <td>D</td>\n",
       "      <td>A</td>\n",
       "      <td>Blue</td>\n",
       "      <td>No</td>\n",
       "    </tr>\n",
       "    <tr>\n",
       "      <th>9</th>\n",
       "      <td>Nissan</td>\n",
       "      <td>7.0</td>\n",
       "      <td>36000.0</td>\n",
       "      <td>P</td>\n",
       "      <td>M</td>\n",
       "      <td>Black</td>\n",
       "      <td>Yes</td>\n",
       "    </tr>\n",
       "  </tbody>\n",
       "</table>\n",
       "</div>"
      ],
      "text/plain": [
       "     Make   Age   Mileage Fuel Gearbox Colour Claimed\n",
       "0  Toyota   2.0   27000.0    P       A    Red     Yes\n",
       "1    Ford   4.0   30500.0    P       M  Black     Yes\n",
       "2  Toyota  15.0  120000.0    D       A  White      No\n",
       "3  Nissan  13.0   53000.0    D       M  White      No\n",
       "4  Nissan   2.0       NaN    D       M  Black      No\n",
       "5    Ford   8.0   73000.0  NaN       M  Green      No\n",
       "6  Toyota   NaN  138000.0    P       M    NaN     Yes\n",
       "7  Nissan  20.0   38000.0    D     NaN  Green     Yes\n",
       "8  Toyota  13.0   67000.0    D       A   Blue      No\n",
       "9  Nissan   7.0   36000.0    P       M  Black     Yes"
      ]
     },
     "execution_count": 5,
     "metadata": {},
     "output_type": "execute_result"
    }
   ],
   "source": [
    "#Showing all elements using iloc:\n",
    "df.iloc[:,:]"
   ]
  },
  {
   "cell_type": "code",
   "execution_count": 6,
   "id": "59d73bc0",
   "metadata": {},
   "outputs": [
    {
     "data": {
      "text/plain": [
       "0    Toyota\n",
       "1      Ford\n",
       "2    Toyota\n",
       "3    Nissan\n",
       "4    Nissan\n",
       "5      Ford\n",
       "6    Toyota\n",
       "7    Nissan\n",
       "8    Toyota\n",
       "9    Nissan\n",
       "Name: Make, dtype: object"
      ]
     },
     "execution_count": 6,
     "metadata": {},
     "output_type": "execute_result"
    }
   ],
   "source": [
    "#showing first column\n",
    "df.iloc[:,0]"
   ]
  },
  {
   "cell_type": "code",
   "execution_count": 7,
   "id": "9f1e1129",
   "metadata": {},
   "outputs": [
    {
     "data": {
      "text/plain": [
       "Make          Ford\n",
       "Age            4.0\n",
       "Mileage    30500.0\n",
       "Fuel             P\n",
       "Gearbox          M\n",
       "Colour       Black\n",
       "Claimed        Yes\n",
       "Name: 1, dtype: object"
      ]
     },
     "execution_count": 7,
     "metadata": {},
     "output_type": "execute_result"
    }
   ],
   "source": [
    "#Showing Second Column\n",
    "df.iloc[1]"
   ]
  },
  {
   "cell_type": "code",
   "execution_count": 8,
   "id": "e68ed026",
   "metadata": {},
   "outputs": [
    {
     "data": {
      "text/plain": [
       "'Toyota'"
      ]
     },
     "execution_count": 8,
     "metadata": {},
     "output_type": "execute_result"
    }
   ],
   "source": [
    "#Calling the third element of the first column\n",
    "df.iloc[2,0]"
   ]
  },
  {
   "cell_type": "code",
   "execution_count": 9,
   "id": "22f9b50f",
   "metadata": {},
   "outputs": [
    {
     "data": {
      "text/plain": [
       "0     2.0\n",
       "1     4.0\n",
       "2    15.0\n",
       "3    13.0\n",
       "4     2.0\n",
       "5     8.0\n",
       "6     NaN\n",
       "7    20.0\n",
       "8    13.0\n",
       "9     7.0\n",
       "Name: Age, dtype: float64"
      ]
     },
     "execution_count": 9,
     "metadata": {},
     "output_type": "execute_result"
    }
   ],
   "source": [
    "# Returning the Age column:\n",
    "df['Age']"
   ]
  },
  {
   "cell_type": "code",
   "execution_count": 10,
   "id": "51170152",
   "metadata": {},
   "outputs": [
    {
     "data": {
      "text/plain": [
       "0     2.0\n",
       "1     4.0\n",
       "2    15.0\n",
       "3    13.0\n",
       "4     2.0\n",
       "5     8.0\n",
       "6     NaN\n",
       "7    20.0\n",
       "8    13.0\n",
       "9     7.0\n",
       "Name: Age, dtype: float64"
      ]
     },
     "execution_count": 10,
     "metadata": {},
     "output_type": "execute_result"
    }
   ],
   "source": [
    "# Returning the Age column:\n",
    "df.Age"
   ]
  },
  {
   "cell_type": "code",
   "execution_count": 11,
   "id": "d6252168",
   "metadata": {},
   "outputs": [
    {
     "data": {
      "text/plain": [
       "array(['Toyota', 'Ford', 'Nissan'], dtype=object)"
      ]
     },
     "execution_count": 11,
     "metadata": {},
     "output_type": "execute_result"
    }
   ],
   "source": [
    "#Listing the unique values of the first column.\n",
    "df.iloc[:,0].unique()"
   ]
  },
  {
   "cell_type": "code",
   "execution_count": 12,
   "id": "8d3af296",
   "metadata": {},
   "outputs": [
    {
     "data": {
      "text/plain": [
       "Toyota    4\n",
       "Nissan    4\n",
       "Ford      2\n",
       "Name: Make, dtype: int64"
      ]
     },
     "execution_count": 12,
     "metadata": {},
     "output_type": "execute_result"
    }
   ],
   "source": [
    "# Counting each value in the first column\n",
    "df.iloc[:,0].value_counts()"
   ]
  },
  {
   "cell_type": "code",
   "execution_count": 13,
   "id": "e6d234cf",
   "metadata": {},
   "outputs": [
    {
     "data": {
      "text/plain": [
       "0    False\n",
       "1    False\n",
       "2    False\n",
       "3     True\n",
       "4     True\n",
       "5    False\n",
       "6    False\n",
       "7     True\n",
       "8    False\n",
       "9     True\n",
       "Name: Make, dtype: bool"
      ]
     },
     "execution_count": 13,
     "metadata": {},
     "output_type": "execute_result"
    }
   ],
   "source": [
    "#Checking where (in which rows) ‘Nissan’ exists in the first column\n",
    "df.iloc[:,0].isin(['Nissan'])"
   ]
  },
  {
   "cell_type": "code",
   "execution_count": 14,
   "id": "e2044168",
   "metadata": {},
   "outputs": [
    {
     "data": {
      "text/plain": [
       "0     2.0\n",
       "4     2.0\n",
       "1     4.0\n",
       "9     7.0\n",
       "5     8.0\n",
       "3    13.0\n",
       "8    13.0\n",
       "2    15.0\n",
       "7    20.0\n",
       "6     NaN\n",
       "Name: Age, dtype: float64"
      ]
     },
     "execution_count": 14,
     "metadata": {},
     "output_type": "execute_result"
    }
   ],
   "source": [
    "# Sorting ascendingly the data frame based on values of the second column\n",
    "df.iloc[:,1].sort_values()"
   ]
  },
  {
   "cell_type": "code",
   "execution_count": 15,
   "id": "bc38ed68",
   "metadata": {},
   "outputs": [
    {
     "data": {
      "text/plain": [
       "7    20.0\n",
       "2    15.0\n",
       "3    13.0\n",
       "8    13.0\n",
       "5     8.0\n",
       "9     7.0\n",
       "1     4.0\n",
       "0     2.0\n",
       "4     2.0\n",
       "6     NaN\n",
       "Name: Age, dtype: float64"
      ]
     },
     "execution_count": 15,
     "metadata": {},
     "output_type": "execute_result"
    }
   ],
   "source": [
    "# Sorting descendingly the data frame based on values of the second column.\n",
    "df.iloc[:,1].sort_values(ascending=False)"
   ]
  },
  {
   "cell_type": "code",
   "execution_count": 16,
   "id": "cca5fe3f",
   "metadata": {},
   "outputs": [
    {
     "data": {
      "text/plain": [
       "0    False\n",
       "1    False\n",
       "2    False\n",
       "3    False\n",
       "4    False\n",
       "5    False\n",
       "6     True\n",
       "7    False\n",
       "8    False\n",
       "9    False\n",
       "Name: Age, dtype: bool"
      ]
     },
     "execution_count": 16,
     "metadata": {},
     "output_type": "execute_result"
    }
   ],
   "source": [
    "#Checking which rows has null value in the Age column (second column)\n",
    "df.iloc[:,1].isnull()"
   ]
  },
  {
   "cell_type": "code",
   "execution_count": 17,
   "id": "7a4e49ff",
   "metadata": {},
   "outputs": [
    {
     "data": {
      "text/plain": [
       "True"
      ]
     },
     "execution_count": 17,
     "metadata": {},
     "output_type": "execute_result"
    }
   ],
   "source": [
    "#Checking whether the second column has any null value\n",
    "df.iloc[:,1].isnull().values.any()"
   ]
  },
  {
   "cell_type": "code",
   "execution_count": 18,
   "id": "a312f581",
   "metadata": {},
   "outputs": [
    {
     "data": {
      "text/plain": [
       "2.0"
      ]
     },
     "execution_count": 18,
     "metadata": {},
     "output_type": "execute_result"
    }
   ],
   "source": [
    "df['Age'].min()"
   ]
  },
  {
   "cell_type": "code",
   "execution_count": 19,
   "id": "e9843124",
   "metadata": {},
   "outputs": [
    {
     "data": {
      "text/plain": [
       "20.0"
      ]
     },
     "execution_count": 19,
     "metadata": {},
     "output_type": "execute_result"
    }
   ],
   "source": [
    "df['Age'].max()"
   ]
  },
  {
   "cell_type": "code",
   "execution_count": 20,
   "id": "284ef35c",
   "metadata": {},
   "outputs": [
    {
     "data": {
      "text/plain": [
       "9.333333333333334"
      ]
     },
     "execution_count": 20,
     "metadata": {},
     "output_type": "execute_result"
    }
   ],
   "source": [
    "df['Age'].mean()"
   ]
  },
  {
   "cell_type": "code",
   "execution_count": 21,
   "id": "f857cb93",
   "metadata": {},
   "outputs": [
    {
     "name": "stdout",
     "output_type": "stream",
     "text": [
      "Requirement already satisfied: scikit-learn in c:\\users\\ebene\\anaconda3\\lib\\site-packages (1.0.2)\n",
      "Requirement already satisfied: joblib>=0.11 in c:\\users\\ebene\\anaconda3\\lib\\site-packages (from scikit-learn) (1.1.0)\n",
      "Requirement already satisfied: numpy>=1.14.6 in c:\\users\\ebene\\anaconda3\\lib\\site-packages (from scikit-learn) (1.22.4)\n",
      "Requirement already satisfied: threadpoolctl>=2.0.0 in c:\\users\\ebene\\anaconda3\\lib\\site-packages (from scikit-learn) (2.2.0)\n",
      "Requirement already satisfied: scipy>=1.1.0 in c:\\users\\ebene\\anaconda3\\lib\\site-packages (from scikit-learn) (1.7.3)\n"
     ]
    }
   ],
   "source": [
    "!pip install scikit-learn"
   ]
  },
  {
   "cell_type": "code",
   "execution_count": 22,
   "id": "6943ea43",
   "metadata": {},
   "outputs": [
    {
     "data": {
      "text/html": [
       "<div>\n",
       "<style scoped>\n",
       "    .dataframe tbody tr th:only-of-type {\n",
       "        vertical-align: middle;\n",
       "    }\n",
       "\n",
       "    .dataframe tbody tr th {\n",
       "        vertical-align: top;\n",
       "    }\n",
       "\n",
       "    .dataframe thead th {\n",
       "        text-align: right;\n",
       "    }\n",
       "</style>\n",
       "<table border=\"1\" class=\"dataframe\">\n",
       "  <thead>\n",
       "    <tr style=\"text-align: right;\">\n",
       "      <th></th>\n",
       "      <th>Make</th>\n",
       "      <th>Age</th>\n",
       "      <th>Mileage</th>\n",
       "      <th>Fuel</th>\n",
       "      <th>Gearbox</th>\n",
       "      <th>Colour</th>\n",
       "      <th>Claimed</th>\n",
       "    </tr>\n",
       "  </thead>\n",
       "  <tbody>\n",
       "    <tr>\n",
       "      <th>0</th>\n",
       "      <td>Toyota</td>\n",
       "      <td>2.0</td>\n",
       "      <td>27000.0</td>\n",
       "      <td>P</td>\n",
       "      <td>A</td>\n",
       "      <td>Red</td>\n",
       "      <td>Yes</td>\n",
       "    </tr>\n",
       "    <tr>\n",
       "      <th>1</th>\n",
       "      <td>Ford</td>\n",
       "      <td>4.0</td>\n",
       "      <td>30500.0</td>\n",
       "      <td>P</td>\n",
       "      <td>M</td>\n",
       "      <td>Black</td>\n",
       "      <td>Yes</td>\n",
       "    </tr>\n",
       "    <tr>\n",
       "      <th>2</th>\n",
       "      <td>Toyota</td>\n",
       "      <td>15.0</td>\n",
       "      <td>120000.0</td>\n",
       "      <td>D</td>\n",
       "      <td>A</td>\n",
       "      <td>White</td>\n",
       "      <td>No</td>\n",
       "    </tr>\n",
       "    <tr>\n",
       "      <th>3</th>\n",
       "      <td>Nissan</td>\n",
       "      <td>13.0</td>\n",
       "      <td>53000.0</td>\n",
       "      <td>D</td>\n",
       "      <td>M</td>\n",
       "      <td>White</td>\n",
       "      <td>No</td>\n",
       "    </tr>\n",
       "    <tr>\n",
       "      <th>4</th>\n",
       "      <td>Nissan</td>\n",
       "      <td>2.0</td>\n",
       "      <td>NaN</td>\n",
       "      <td>D</td>\n",
       "      <td>M</td>\n",
       "      <td>Black</td>\n",
       "      <td>No</td>\n",
       "    </tr>\n",
       "    <tr>\n",
       "      <th>5</th>\n",
       "      <td>Ford</td>\n",
       "      <td>8.0</td>\n",
       "      <td>73000.0</td>\n",
       "      <td>NaN</td>\n",
       "      <td>M</td>\n",
       "      <td>Green</td>\n",
       "      <td>No</td>\n",
       "    </tr>\n",
       "    <tr>\n",
       "      <th>6</th>\n",
       "      <td>Toyota</td>\n",
       "      <td>NaN</td>\n",
       "      <td>138000.0</td>\n",
       "      <td>P</td>\n",
       "      <td>M</td>\n",
       "      <td>NaN</td>\n",
       "      <td>Yes</td>\n",
       "    </tr>\n",
       "    <tr>\n",
       "      <th>7</th>\n",
       "      <td>Nissan</td>\n",
       "      <td>20.0</td>\n",
       "      <td>38000.0</td>\n",
       "      <td>D</td>\n",
       "      <td>NaN</td>\n",
       "      <td>Green</td>\n",
       "      <td>Yes</td>\n",
       "    </tr>\n",
       "    <tr>\n",
       "      <th>8</th>\n",
       "      <td>Toyota</td>\n",
       "      <td>13.0</td>\n",
       "      <td>67000.0</td>\n",
       "      <td>D</td>\n",
       "      <td>A</td>\n",
       "      <td>Blue</td>\n",
       "      <td>No</td>\n",
       "    </tr>\n",
       "    <tr>\n",
       "      <th>9</th>\n",
       "      <td>Nissan</td>\n",
       "      <td>7.0</td>\n",
       "      <td>36000.0</td>\n",
       "      <td>P</td>\n",
       "      <td>M</td>\n",
       "      <td>Black</td>\n",
       "      <td>Yes</td>\n",
       "    </tr>\n",
       "  </tbody>\n",
       "</table>\n",
       "</div>"
      ],
      "text/plain": [
       "     Make   Age   Mileage Fuel Gearbox Colour Claimed\n",
       "0  Toyota   2.0   27000.0    P       A    Red     Yes\n",
       "1    Ford   4.0   30500.0    P       M  Black     Yes\n",
       "2  Toyota  15.0  120000.0    D       A  White      No\n",
       "3  Nissan  13.0   53000.0    D       M  White      No\n",
       "4  Nissan   2.0       NaN    D       M  Black      No\n",
       "5    Ford   8.0   73000.0  NaN       M  Green      No\n",
       "6  Toyota   NaN  138000.0    P       M    NaN     Yes\n",
       "7  Nissan  20.0   38000.0    D     NaN  Green     Yes\n",
       "8  Toyota  13.0   67000.0    D       A   Blue      No\n",
       "9  Nissan   7.0   36000.0    P       M  Black     Yes"
      ]
     },
     "execution_count": 22,
     "metadata": {},
     "output_type": "execute_result"
    }
   ],
   "source": [
    "#Checking Missing values\n",
    "df.iloc[:,:]"
   ]
  },
  {
   "cell_type": "code",
   "execution_count": 23,
   "id": "8cc486be",
   "metadata": {},
   "outputs": [
    {
     "data": {
      "text/plain": [
       "Make       0\n",
       "Age        1\n",
       "Mileage    1\n",
       "Fuel       1\n",
       "Gearbox    1\n",
       "Colour     1\n",
       "Claimed    0\n",
       "dtype: int64"
      ]
     },
     "execution_count": 23,
     "metadata": {},
     "output_type": "execute_result"
    }
   ],
   "source": [
    "#Checking which columns contain null values.\n",
    "df.isnull().sum()"
   ]
  },
  {
   "cell_type": "code",
   "execution_count": 24,
   "id": "1e068aa5",
   "metadata": {},
   "outputs": [],
   "source": [
    "from sklearn.impute import SimpleImputer"
   ]
  },
  {
   "cell_type": "code",
   "execution_count": 25,
   "id": "add50cec",
   "metadata": {},
   "outputs": [
    {
     "data": {
      "text/plain": [
       "array([[2.00000000e+00, 2.70000000e+04],\n",
       "       [4.00000000e+00, 3.05000000e+04],\n",
       "       [1.50000000e+01, 1.20000000e+05],\n",
       "       [1.30000000e+01, 5.30000000e+04],\n",
       "       [2.00000000e+00, 6.47222222e+04],\n",
       "       [8.00000000e+00, 7.30000000e+04],\n",
       "       [9.33333333e+00, 1.38000000e+05],\n",
       "       [2.00000000e+01, 3.80000000e+04],\n",
       "       [1.30000000e+01, 6.70000000e+04],\n",
       "       [7.00000000e+00, 3.60000000e+04]])"
      ]
     },
     "execution_count": 25,
     "metadata": {},
     "output_type": "execute_result"
    }
   ],
   "source": [
    "# numerical variables\n",
    "# strategies: mean, median, most_frequent, constant\n",
    "# As Age and Mileage are numerical and contain null values, \n",
    "# we can use SimpleImputer to estimate the null value. \n",
    "# The following code uses “mean” to get the null values filled.\n",
    "import numpy as np\n",
    "numImputer = SimpleImputer(missing_values=np.nan, strategy='mean')\n",
    "numImputer = numImputer.fit(df[['Age','Mileage']])\n",
    "new_serr = numImputer.transform(df[['Age', 'Mileage']])\n",
    "new_serr"
   ]
  },
  {
   "cell_type": "code",
   "execution_count": 26,
   "id": "a597757c",
   "metadata": {},
   "outputs": [
    {
     "data": {
      "text/plain": [
       "array([[2.00e+00, 2.70e+04],\n",
       "       [4.00e+00, 3.05e+04],\n",
       "       [1.50e+01, 1.20e+05],\n",
       "       [1.30e+01, 5.30e+04],\n",
       "       [2.00e+00, 5.30e+04],\n",
       "       [8.00e+00, 7.30e+04],\n",
       "       [8.00e+00, 1.38e+05],\n",
       "       [2.00e+01, 3.80e+04],\n",
       "       [1.30e+01, 6.70e+04],\n",
       "       [7.00e+00, 3.60e+04]])"
      ]
     },
     "execution_count": 26,
     "metadata": {},
     "output_type": "execute_result"
    }
   ],
   "source": [
    "# numerical variables\n",
    "# strategies: mean, median, most_frequent, constant\n",
    "# The following uses median to impute null values\n",
    "import numpy as np\n",
    "numImputer = SimpleImputer(missing_values=np.nan, strategy='median')\n",
    "numImputer = numImputer.fit(df[['Age','Mileage']])\n",
    "new_serr = numImputer.transform(df[['Age', 'Mileage']])\n",
    "new_serr"
   ]
  },
  {
   "cell_type": "code",
   "execution_count": 27,
   "id": "6ec35a60",
   "metadata": {},
   "outputs": [
    {
     "data": {
      "text/plain": [
       "array([[2.00e+00, 2.70e+04],\n",
       "       [4.00e+00, 3.05e+04],\n",
       "       [1.50e+01, 1.20e+05],\n",
       "       [1.30e+01, 5.30e+04],\n",
       "       [2.00e+00, 2.70e+04],\n",
       "       [8.00e+00, 7.30e+04],\n",
       "       [2.00e+00, 1.38e+05],\n",
       "       [2.00e+01, 3.80e+04],\n",
       "       [1.30e+01, 6.70e+04],\n",
       "       [7.00e+00, 3.60e+04]])"
      ]
     },
     "execution_count": 27,
     "metadata": {},
     "output_type": "execute_result"
    }
   ],
   "source": [
    "# numerical variables\n",
    "# strategies: mean, median, most_frequent, constant\n",
    "# Mode or the most frequent of null value\n",
    "import numpy as np\n",
    "numImputer = SimpleImputer(missing_values=np.nan, strategy='most_frequent')\n",
    "numImputer = numImputer.fit(df[['Age','Mileage']])\n",
    "new_serr = numImputer.transform(df[['Age', 'Mileage']])\n",
    "new_serr"
   ]
  },
  {
   "cell_type": "code",
   "execution_count": 28,
   "id": "892f5ce9",
   "metadata": {},
   "outputs": [
    {
     "data": {
      "text/plain": [
       "array([[ 2.00e+00,  2.70e+04],\n",
       "       [ 4.00e+00,  3.05e+04],\n",
       "       [ 1.50e+01,  1.20e+05],\n",
       "       [ 1.30e+01,  5.30e+04],\n",
       "       [ 2.00e+00, -1.00e+00],\n",
       "       [ 8.00e+00,  7.30e+04],\n",
       "       [-1.00e+00,  1.38e+05],\n",
       "       [ 2.00e+01,  3.80e+04],\n",
       "       [ 1.30e+01,  6.70e+04],\n",
       "       [ 7.00e+00,  3.60e+04]])"
      ]
     },
     "execution_count": 28,
     "metadata": {},
     "output_type": "execute_result"
    }
   ],
   "source": [
    "# numerical variables\n",
    "# strategies: mean, median, most_frequent, constant\n",
    "# A designated constant value is used to fill null value\n",
    "import numpy as np\n",
    "numImputer = SimpleImputer(missing_values=np.nan, strategy='constant', fill_value=-1)\n",
    "numImputer = numImputer.fit(df[['Age','Mileage']])\n",
    "new_serr = numImputer.transform(df[['Age', 'Mileage']])\n",
    "new_serr"
   ]
  },
  {
   "cell_type": "code",
   "execution_count": 29,
   "id": "34502f13",
   "metadata": {},
   "outputs": [
    {
     "data": {
      "text/plain": [
       "array([['P', 'A', 'Red'],\n",
       "       ['P', 'M', 'Black'],\n",
       "       ['D', 'A', 'White'],\n",
       "       ['D', 'M', 'White'],\n",
       "       ['D', 'M', 'Black'],\n",
       "       ['D', 'M', 'Green'],\n",
       "       ['P', 'M', 'Black'],\n",
       "       ['D', 'M', 'Green'],\n",
       "       ['D', 'A', 'Blue'],\n",
       "       ['P', 'M', 'Black']], dtype=object)"
      ]
     },
     "execution_count": 29,
     "metadata": {},
     "output_type": "execute_result"
    }
   ],
   "source": [
    "# categorical variables\n",
    "# strategies: most_frequent, constant\n",
    "catImputer = SimpleImputer(missing_values=np.nan, strategy='most_frequent')\n",
    "catImputer = catImputer.fit(df[['Fuel','Gearbox', 'Colour']])\n",
    "new_serr = catImputer.transform(df[['Fuel','Gearbox', 'Colour']])\n",
    "new_serr"
   ]
  },
  {
   "cell_type": "code",
   "execution_count": 31,
   "id": "406b6018",
   "metadata": {},
   "outputs": [
    {
     "data": {
      "text/plain": [
       "array([['P', 'A', 'Red'],\n",
       "       ['P', 'M', 'Black'],\n",
       "       ['D', 'A', 'White'],\n",
       "       ['D', 'M', 'White'],\n",
       "       ['D', 'M', 'Black'],\n",
       "       ['Red', 'M', 'Green'],\n",
       "       ['P', 'M', 'Red'],\n",
       "       ['D', 'Red', 'Green'],\n",
       "       ['D', 'A', 'Blue'],\n",
       "       ['P', 'M', 'Black']], dtype=object)"
      ]
     },
     "execution_count": 31,
     "metadata": {},
     "output_type": "execute_result"
    }
   ],
   "source": [
    "# categorical variables\n",
    "# strategies: most_frequent, constant\n",
    "catImputer = SimpleImputer(missing_values=np.nan, strategy='constant', fill_value='Red')\n",
    "catImputer = catImputer.fit(df[['Fuel','Gearbox', 'Colour']])\n",
    "new_serr = catImputer.transform(df[['Fuel','Gearbox', 'Colour']])\n",
    "new_serr"
   ]
  },
  {
   "cell_type": "code",
   "execution_count": 32,
   "id": "f772bd93",
   "metadata": {},
   "outputs": [
    {
     "data": {
      "text/html": [
       "<div>\n",
       "<style scoped>\n",
       "    .dataframe tbody tr th:only-of-type {\n",
       "        vertical-align: middle;\n",
       "    }\n",
       "\n",
       "    .dataframe tbody tr th {\n",
       "        vertical-align: top;\n",
       "    }\n",
       "\n",
       "    .dataframe thead th {\n",
       "        text-align: right;\n",
       "    }\n",
       "</style>\n",
       "<table border=\"1\" class=\"dataframe\">\n",
       "  <thead>\n",
       "    <tr style=\"text-align: right;\">\n",
       "      <th></th>\n",
       "      <th>Make</th>\n",
       "      <th>Age</th>\n",
       "      <th>Mileage</th>\n",
       "      <th>Fuel</th>\n",
       "      <th>Gearbox</th>\n",
       "      <th>Colour</th>\n",
       "      <th>Claimed</th>\n",
       "    </tr>\n",
       "  </thead>\n",
       "  <tbody>\n",
       "    <tr>\n",
       "      <th>0</th>\n",
       "      <td>Toyota</td>\n",
       "      <td>2.000000</td>\n",
       "      <td>27000.000000</td>\n",
       "      <td>P</td>\n",
       "      <td>A</td>\n",
       "      <td>Red</td>\n",
       "      <td>Yes</td>\n",
       "    </tr>\n",
       "    <tr>\n",
       "      <th>1</th>\n",
       "      <td>Ford</td>\n",
       "      <td>4.000000</td>\n",
       "      <td>30500.000000</td>\n",
       "      <td>P</td>\n",
       "      <td>M</td>\n",
       "      <td>Black</td>\n",
       "      <td>Yes</td>\n",
       "    </tr>\n",
       "    <tr>\n",
       "      <th>2</th>\n",
       "      <td>Toyota</td>\n",
       "      <td>15.000000</td>\n",
       "      <td>120000.000000</td>\n",
       "      <td>D</td>\n",
       "      <td>A</td>\n",
       "      <td>White</td>\n",
       "      <td>No</td>\n",
       "    </tr>\n",
       "    <tr>\n",
       "      <th>3</th>\n",
       "      <td>Nissan</td>\n",
       "      <td>13.000000</td>\n",
       "      <td>53000.000000</td>\n",
       "      <td>D</td>\n",
       "      <td>M</td>\n",
       "      <td>White</td>\n",
       "      <td>No</td>\n",
       "    </tr>\n",
       "    <tr>\n",
       "      <th>4</th>\n",
       "      <td>Nissan</td>\n",
       "      <td>2.000000</td>\n",
       "      <td>64722.222222</td>\n",
       "      <td>D</td>\n",
       "      <td>M</td>\n",
       "      <td>Black</td>\n",
       "      <td>No</td>\n",
       "    </tr>\n",
       "    <tr>\n",
       "      <th>5</th>\n",
       "      <td>Ford</td>\n",
       "      <td>8.000000</td>\n",
       "      <td>73000.000000</td>\n",
       "      <td>D</td>\n",
       "      <td>M</td>\n",
       "      <td>Green</td>\n",
       "      <td>No</td>\n",
       "    </tr>\n",
       "    <tr>\n",
       "      <th>6</th>\n",
       "      <td>Toyota</td>\n",
       "      <td>9.333333</td>\n",
       "      <td>138000.000000</td>\n",
       "      <td>P</td>\n",
       "      <td>M</td>\n",
       "      <td>Black</td>\n",
       "      <td>Yes</td>\n",
       "    </tr>\n",
       "    <tr>\n",
       "      <th>7</th>\n",
       "      <td>Nissan</td>\n",
       "      <td>20.000000</td>\n",
       "      <td>38000.000000</td>\n",
       "      <td>D</td>\n",
       "      <td>M</td>\n",
       "      <td>Green</td>\n",
       "      <td>Yes</td>\n",
       "    </tr>\n",
       "    <tr>\n",
       "      <th>8</th>\n",
       "      <td>Toyota</td>\n",
       "      <td>13.000000</td>\n",
       "      <td>67000.000000</td>\n",
       "      <td>D</td>\n",
       "      <td>A</td>\n",
       "      <td>Blue</td>\n",
       "      <td>No</td>\n",
       "    </tr>\n",
       "    <tr>\n",
       "      <th>9</th>\n",
       "      <td>Nissan</td>\n",
       "      <td>7.000000</td>\n",
       "      <td>36000.000000</td>\n",
       "      <td>P</td>\n",
       "      <td>M</td>\n",
       "      <td>Black</td>\n",
       "      <td>Yes</td>\n",
       "    </tr>\n",
       "  </tbody>\n",
       "</table>\n",
       "</div>"
      ],
      "text/plain": [
       "     Make        Age        Mileage Fuel Gearbox Colour Claimed\n",
       "0  Toyota   2.000000   27000.000000    P       A    Red     Yes\n",
       "1    Ford   4.000000   30500.000000    P       M  Black     Yes\n",
       "2  Toyota  15.000000  120000.000000    D       A  White      No\n",
       "3  Nissan  13.000000   53000.000000    D       M  White      No\n",
       "4  Nissan   2.000000   64722.222222    D       M  Black      No\n",
       "5    Ford   8.000000   73000.000000    D       M  Green      No\n",
       "6  Toyota   9.333333  138000.000000    P       M  Black     Yes\n",
       "7  Nissan  20.000000   38000.000000    D       M  Green     Yes\n",
       "8  Toyota  13.000000   67000.000000    D       A   Blue      No\n",
       "9  Nissan   7.000000   36000.000000    P       M  Black     Yes"
      ]
     },
     "execution_count": 32,
     "metadata": {},
     "output_type": "execute_result"
    }
   ],
   "source": [
    "numImputer = SimpleImputer(missing_values=np.nan, strategy='mean')\n",
    "numImputer = numImputer.fit(df[['Age','Mileage']])\n",
    "df[['Age','Mileage']] = numImputer.transform(df[['Age', 'Mileage']])\n",
    "catImputer = SimpleImputer(missing_values=np.nan, strategy='most_frequent')\n",
    "catImputer = catImputer.fit(df[['Fuel','Gearbox', 'Colour']])\n",
    "df[['Fuel','Gearbox', 'Colour']] = catImputer.transform(df[['Fuel','Gearbox', 'Colour']])\n",
    "df"
   ]
  },
  {
   "cell_type": "code",
   "execution_count": 36,
   "id": "9f5f4842",
   "metadata": {},
   "outputs": [
    {
     "data": {
      "text/plain": [
       "array([[2., 1., 0., 3., 1.],\n",
       "       [0., 1., 1., 0., 1.],\n",
       "       [2., 0., 0., 4., 0.],\n",
       "       [1., 0., 1., 4., 0.],\n",
       "       [1., 0., 1., 0., 0.],\n",
       "       [0., 0., 1., 2., 0.],\n",
       "       [2., 1., 1., 0., 1.],\n",
       "       [1., 0., 1., 2., 1.],\n",
       "       [2., 0., 0., 1., 0.],\n",
       "       [1., 1., 1., 0., 1.]])"
      ]
     },
     "execution_count": 36,
     "metadata": {},
     "output_type": "execute_result"
    }
   ],
   "source": [
    "#Convert categorical Value to Integer\n",
    "from sklearn import preprocessing\n",
    "enc = preprocessing.OrdinalEncoder()\n",
    "enc.fit_transform(df[['Make','Fuel','Gearbox','Colour','Claimed']])"
   ]
  },
  {
   "cell_type": "code",
   "execution_count": 38,
   "id": "37ffad4d",
   "metadata": {},
   "outputs": [
    {
     "data": {
      "text/plain": [
       "array([[0., 1., 1., 0., 0., 0., 1., 0., 1.],\n",
       "       [0., 0., 1., 1., 0., 0., 0., 0., 1.],\n",
       "       [0., 1., 0., 0., 0., 0., 0., 1., 0.],\n",
       "       [1., 0., 0., 1., 0., 0., 0., 1., 0.],\n",
       "       [1., 0., 0., 1., 0., 0., 0., 0., 0.],\n",
       "       [0., 0., 0., 1., 0., 1., 0., 0., 0.],\n",
       "       [0., 1., 1., 1., 0., 0., 0., 0., 1.],\n",
       "       [1., 0., 0., 1., 0., 1., 0., 0., 1.],\n",
       "       [0., 1., 0., 0., 1., 0., 0., 0., 0.],\n",
       "       [1., 0., 1., 1., 0., 0., 0., 0., 1.]])"
      ]
     },
     "execution_count": 38,
     "metadata": {},
     "output_type": "execute_result"
    }
   ],
   "source": [
    "enc = preprocessing.OneHotEncoder(drop='first')\n",
    "enc.fit_transform(df[['Make','Fuel','Gearbox','Colour', 'Claimed']]).toarray()"
   ]
  },
  {
   "cell_type": "code",
   "execution_count": 39,
   "id": "6f83769d",
   "metadata": {},
   "outputs": [
    {
     "data": {
      "text/plain": [
       "[array(['Ford', 'Nissan', 'Toyota'], dtype=object),\n",
       " array(['D', 'P'], dtype=object),\n",
       " array(['A', 'M'], dtype=object),\n",
       " array(['Black', 'Blue', 'Green', 'Red', 'White'], dtype=object),\n",
       " array(['No', 'Yes'], dtype=object)]"
      ]
     },
     "execution_count": 39,
     "metadata": {},
     "output_type": "execute_result"
    }
   ],
   "source": [
    "enc.categories_"
   ]
  },
  {
   "cell_type": "code",
   "execution_count": 44,
   "id": "34154a5b",
   "metadata": {},
   "outputs": [
    {
     "data": {
      "text/html": [
       "<div>\n",
       "<style scoped>\n",
       "    .dataframe tbody tr th:only-of-type {\n",
       "        vertical-align: middle;\n",
       "    }\n",
       "\n",
       "    .dataframe tbody tr th {\n",
       "        vertical-align: top;\n",
       "    }\n",
       "\n",
       "    .dataframe thead th {\n",
       "        text-align: right;\n",
       "    }\n",
       "</style>\n",
       "<table border=\"1\" class=\"dataframe\">\n",
       "  <thead>\n",
       "    <tr style=\"text-align: right;\">\n",
       "      <th></th>\n",
       "      <th>Age</th>\n",
       "      <th>Mileage</th>\n",
       "      <th>Claimed</th>\n",
       "      <th>Nissan</th>\n",
       "      <th>Toyota</th>\n",
       "      <th>P</th>\n",
       "      <th>M</th>\n",
       "      <th>Blue</th>\n",
       "      <th>Green</th>\n",
       "      <th>Red</th>\n",
       "      <th>White</th>\n",
       "    </tr>\n",
       "  </thead>\n",
       "  <tbody>\n",
       "    <tr>\n",
       "      <th>0</th>\n",
       "      <td>2.000000</td>\n",
       "      <td>27000.000000</td>\n",
       "      <td>1.0</td>\n",
       "      <td>0.0</td>\n",
       "      <td>1.0</td>\n",
       "      <td>1.0</td>\n",
       "      <td>0.0</td>\n",
       "      <td>0.0</td>\n",
       "      <td>0.0</td>\n",
       "      <td>1.0</td>\n",
       "      <td>0.0</td>\n",
       "    </tr>\n",
       "    <tr>\n",
       "      <th>1</th>\n",
       "      <td>4.000000</td>\n",
       "      <td>30500.000000</td>\n",
       "      <td>1.0</td>\n",
       "      <td>0.0</td>\n",
       "      <td>0.0</td>\n",
       "      <td>1.0</td>\n",
       "      <td>1.0</td>\n",
       "      <td>0.0</td>\n",
       "      <td>0.0</td>\n",
       "      <td>0.0</td>\n",
       "      <td>0.0</td>\n",
       "    </tr>\n",
       "    <tr>\n",
       "      <th>2</th>\n",
       "      <td>15.000000</td>\n",
       "      <td>120000.000000</td>\n",
       "      <td>0.0</td>\n",
       "      <td>0.0</td>\n",
       "      <td>1.0</td>\n",
       "      <td>0.0</td>\n",
       "      <td>0.0</td>\n",
       "      <td>0.0</td>\n",
       "      <td>0.0</td>\n",
       "      <td>0.0</td>\n",
       "      <td>1.0</td>\n",
       "    </tr>\n",
       "    <tr>\n",
       "      <th>3</th>\n",
       "      <td>13.000000</td>\n",
       "      <td>53000.000000</td>\n",
       "      <td>0.0</td>\n",
       "      <td>1.0</td>\n",
       "      <td>0.0</td>\n",
       "      <td>0.0</td>\n",
       "      <td>1.0</td>\n",
       "      <td>0.0</td>\n",
       "      <td>0.0</td>\n",
       "      <td>0.0</td>\n",
       "      <td>1.0</td>\n",
       "    </tr>\n",
       "    <tr>\n",
       "      <th>4</th>\n",
       "      <td>2.000000</td>\n",
       "      <td>64722.222222</td>\n",
       "      <td>0.0</td>\n",
       "      <td>1.0</td>\n",
       "      <td>0.0</td>\n",
       "      <td>0.0</td>\n",
       "      <td>1.0</td>\n",
       "      <td>0.0</td>\n",
       "      <td>0.0</td>\n",
       "      <td>0.0</td>\n",
       "      <td>0.0</td>\n",
       "    </tr>\n",
       "    <tr>\n",
       "      <th>5</th>\n",
       "      <td>8.000000</td>\n",
       "      <td>73000.000000</td>\n",
       "      <td>0.0</td>\n",
       "      <td>0.0</td>\n",
       "      <td>0.0</td>\n",
       "      <td>0.0</td>\n",
       "      <td>1.0</td>\n",
       "      <td>0.0</td>\n",
       "      <td>1.0</td>\n",
       "      <td>0.0</td>\n",
       "      <td>0.0</td>\n",
       "    </tr>\n",
       "    <tr>\n",
       "      <th>6</th>\n",
       "      <td>9.333333</td>\n",
       "      <td>138000.000000</td>\n",
       "      <td>1.0</td>\n",
       "      <td>0.0</td>\n",
       "      <td>1.0</td>\n",
       "      <td>1.0</td>\n",
       "      <td>1.0</td>\n",
       "      <td>0.0</td>\n",
       "      <td>0.0</td>\n",
       "      <td>0.0</td>\n",
       "      <td>0.0</td>\n",
       "    </tr>\n",
       "    <tr>\n",
       "      <th>7</th>\n",
       "      <td>20.000000</td>\n",
       "      <td>38000.000000</td>\n",
       "      <td>1.0</td>\n",
       "      <td>1.0</td>\n",
       "      <td>0.0</td>\n",
       "      <td>0.0</td>\n",
       "      <td>1.0</td>\n",
       "      <td>0.0</td>\n",
       "      <td>1.0</td>\n",
       "      <td>0.0</td>\n",
       "      <td>0.0</td>\n",
       "    </tr>\n",
       "    <tr>\n",
       "      <th>8</th>\n",
       "      <td>13.000000</td>\n",
       "      <td>67000.000000</td>\n",
       "      <td>0.0</td>\n",
       "      <td>0.0</td>\n",
       "      <td>1.0</td>\n",
       "      <td>0.0</td>\n",
       "      <td>0.0</td>\n",
       "      <td>1.0</td>\n",
       "      <td>0.0</td>\n",
       "      <td>0.0</td>\n",
       "      <td>0.0</td>\n",
       "    </tr>\n",
       "    <tr>\n",
       "      <th>9</th>\n",
       "      <td>7.000000</td>\n",
       "      <td>36000.000000</td>\n",
       "      <td>1.0</td>\n",
       "      <td>1.0</td>\n",
       "      <td>0.0</td>\n",
       "      <td>1.0</td>\n",
       "      <td>1.0</td>\n",
       "      <td>0.0</td>\n",
       "      <td>0.0</td>\n",
       "      <td>0.0</td>\n",
       "      <td>0.0</td>\n",
       "    </tr>\n",
       "  </tbody>\n",
       "</table>\n",
       "</div>"
      ],
      "text/plain": [
       "         Age        Mileage  Claimed  Nissan  Toyota    P    M  Blue  Green  \\\n",
       "0   2.000000   27000.000000      1.0     0.0     1.0  1.0  0.0   0.0    0.0   \n",
       "1   4.000000   30500.000000      1.0     0.0     0.0  1.0  1.0   0.0    0.0   \n",
       "2  15.000000  120000.000000      0.0     0.0     1.0  0.0  0.0   0.0    0.0   \n",
       "3  13.000000   53000.000000      0.0     1.0     0.0  0.0  1.0   0.0    0.0   \n",
       "4   2.000000   64722.222222      0.0     1.0     0.0  0.0  1.0   0.0    0.0   \n",
       "5   8.000000   73000.000000      0.0     0.0     0.0  0.0  1.0   0.0    1.0   \n",
       "6   9.333333  138000.000000      1.0     0.0     1.0  1.0  1.0   0.0    0.0   \n",
       "7  20.000000   38000.000000      1.0     1.0     0.0  0.0  1.0   0.0    1.0   \n",
       "8  13.000000   67000.000000      0.0     0.0     1.0  0.0  0.0   1.0    0.0   \n",
       "9   7.000000   36000.000000      1.0     1.0     0.0  1.0  1.0   0.0    0.0   \n",
       "\n",
       "   Red  White  \n",
       "0  1.0    0.0  \n",
       "1  0.0    0.0  \n",
       "2  0.0    1.0  \n",
       "3  0.0    1.0  \n",
       "4  0.0    0.0  \n",
       "5  0.0    0.0  \n",
       "6  0.0    0.0  \n",
       "7  0.0    0.0  \n",
       "8  0.0    0.0  \n",
       "9  0.0    0.0  "
      ]
     },
     "execution_count": 44,
     "metadata": {},
     "output_type": "execute_result"
    }
   ],
   "source": [
    "#All together\n",
    "\n",
    "# target variable, it just uses the ordinal encoder\n",
    "enc = preprocessing.OrdinalEncoder()\n",
    "df['Claimed']=enc.fit_transform(df['Claimed'].values.reshape(-1,1))\n",
    "\n",
    "#input variables one hot encoding\n",
    "enc = preprocessing.OneHotEncoder(drop='first')\n",
    "onehots = enc.fit_transform(df[['Make', 'Fuel', 'Gearbox', 'Colour']]).toarray()\n",
    "\n",
    "#creating the new df\n",
    "cols = []\n",
    "for i in enc.categories_:\n",
    "    i = np.delete(i,0)\n",
    "    cols.extend(i)\n",
    "df = df.join(pd.DataFrame(onehots, columns=cols))\n",
    "\n",
    "df = df.drop(['Make', 'Fuel', 'Gearbox', 'Colour'], axis=1)\n",
    "df\n",
    "    "
   ]
  },
  {
   "cell_type": "code",
   "execution_count": 51,
   "id": "c5ff5d81",
   "metadata": {},
   "outputs": [
    {
     "data": {
      "text/html": [
       "<div>\n",
       "<style scoped>\n",
       "    .dataframe tbody tr th:only-of-type {\n",
       "        vertical-align: middle;\n",
       "    }\n",
       "\n",
       "    .dataframe tbody tr th {\n",
       "        vertical-align: top;\n",
       "    }\n",
       "\n",
       "    .dataframe thead th {\n",
       "        text-align: right;\n",
       "    }\n",
       "</style>\n",
       "<table border=\"1\" class=\"dataframe\">\n",
       "  <thead>\n",
       "    <tr style=\"text-align: right;\">\n",
       "      <th></th>\n",
       "      <th>Age</th>\n",
       "      <th>Mileage</th>\n",
       "      <th>Claimed</th>\n",
       "      <th>Nissan</th>\n",
       "      <th>Toyota</th>\n",
       "      <th>P</th>\n",
       "      <th>M</th>\n",
       "      <th>Blue</th>\n",
       "      <th>Green</th>\n",
       "      <th>Red</th>\n",
       "    </tr>\n",
       "  </thead>\n",
       "  <tbody>\n",
       "    <tr>\n",
       "      <th>0</th>\n",
       "      <td>2.000000</td>\n",
       "      <td>27000.000000</td>\n",
       "      <td>1.0</td>\n",
       "      <td>0.0</td>\n",
       "      <td>1.0</td>\n",
       "      <td>1.0</td>\n",
       "      <td>0.0</td>\n",
       "      <td>0.0</td>\n",
       "      <td>0.0</td>\n",
       "      <td>1.0</td>\n",
       "    </tr>\n",
       "    <tr>\n",
       "      <th>1</th>\n",
       "      <td>4.000000</td>\n",
       "      <td>30500.000000</td>\n",
       "      <td>1.0</td>\n",
       "      <td>0.0</td>\n",
       "      <td>0.0</td>\n",
       "      <td>1.0</td>\n",
       "      <td>1.0</td>\n",
       "      <td>0.0</td>\n",
       "      <td>0.0</td>\n",
       "      <td>0.0</td>\n",
       "    </tr>\n",
       "    <tr>\n",
       "      <th>2</th>\n",
       "      <td>15.000000</td>\n",
       "      <td>120000.000000</td>\n",
       "      <td>0.0</td>\n",
       "      <td>0.0</td>\n",
       "      <td>1.0</td>\n",
       "      <td>0.0</td>\n",
       "      <td>0.0</td>\n",
       "      <td>0.0</td>\n",
       "      <td>0.0</td>\n",
       "      <td>0.0</td>\n",
       "    </tr>\n",
       "    <tr>\n",
       "      <th>3</th>\n",
       "      <td>13.000000</td>\n",
       "      <td>53000.000000</td>\n",
       "      <td>0.0</td>\n",
       "      <td>1.0</td>\n",
       "      <td>0.0</td>\n",
       "      <td>0.0</td>\n",
       "      <td>1.0</td>\n",
       "      <td>0.0</td>\n",
       "      <td>0.0</td>\n",
       "      <td>0.0</td>\n",
       "    </tr>\n",
       "    <tr>\n",
       "      <th>4</th>\n",
       "      <td>2.000000</td>\n",
       "      <td>64722.222222</td>\n",
       "      <td>0.0</td>\n",
       "      <td>1.0</td>\n",
       "      <td>0.0</td>\n",
       "      <td>0.0</td>\n",
       "      <td>1.0</td>\n",
       "      <td>0.0</td>\n",
       "      <td>0.0</td>\n",
       "      <td>0.0</td>\n",
       "    </tr>\n",
       "    <tr>\n",
       "      <th>5</th>\n",
       "      <td>8.000000</td>\n",
       "      <td>73000.000000</td>\n",
       "      <td>0.0</td>\n",
       "      <td>0.0</td>\n",
       "      <td>0.0</td>\n",
       "      <td>0.0</td>\n",
       "      <td>1.0</td>\n",
       "      <td>0.0</td>\n",
       "      <td>1.0</td>\n",
       "      <td>0.0</td>\n",
       "    </tr>\n",
       "    <tr>\n",
       "      <th>6</th>\n",
       "      <td>9.333333</td>\n",
       "      <td>138000.000000</td>\n",
       "      <td>1.0</td>\n",
       "      <td>0.0</td>\n",
       "      <td>1.0</td>\n",
       "      <td>1.0</td>\n",
       "      <td>1.0</td>\n",
       "      <td>0.0</td>\n",
       "      <td>0.0</td>\n",
       "      <td>0.0</td>\n",
       "    </tr>\n",
       "    <tr>\n",
       "      <th>7</th>\n",
       "      <td>20.000000</td>\n",
       "      <td>38000.000000</td>\n",
       "      <td>1.0</td>\n",
       "      <td>1.0</td>\n",
       "      <td>0.0</td>\n",
       "      <td>0.0</td>\n",
       "      <td>1.0</td>\n",
       "      <td>0.0</td>\n",
       "      <td>1.0</td>\n",
       "      <td>0.0</td>\n",
       "    </tr>\n",
       "    <tr>\n",
       "      <th>8</th>\n",
       "      <td>13.000000</td>\n",
       "      <td>67000.000000</td>\n",
       "      <td>0.0</td>\n",
       "      <td>0.0</td>\n",
       "      <td>1.0</td>\n",
       "      <td>0.0</td>\n",
       "      <td>0.0</td>\n",
       "      <td>1.0</td>\n",
       "      <td>0.0</td>\n",
       "      <td>0.0</td>\n",
       "    </tr>\n",
       "    <tr>\n",
       "      <th>9</th>\n",
       "      <td>7.000000</td>\n",
       "      <td>36000.000000</td>\n",
       "      <td>1.0</td>\n",
       "      <td>1.0</td>\n",
       "      <td>0.0</td>\n",
       "      <td>1.0</td>\n",
       "      <td>1.0</td>\n",
       "      <td>0.0</td>\n",
       "      <td>0.0</td>\n",
       "      <td>0.0</td>\n",
       "    </tr>\n",
       "  </tbody>\n",
       "</table>\n",
       "</div>"
      ],
      "text/plain": [
       "         Age        Mileage  Claimed  Nissan  Toyota    P    M  Blue  Green  \\\n",
       "0   2.000000   27000.000000      1.0     0.0     1.0  1.0  0.0   0.0    0.0   \n",
       "1   4.000000   30500.000000      1.0     0.0     0.0  1.0  1.0   0.0    0.0   \n",
       "2  15.000000  120000.000000      0.0     0.0     1.0  0.0  0.0   0.0    0.0   \n",
       "3  13.000000   53000.000000      0.0     1.0     0.0  0.0  1.0   0.0    0.0   \n",
       "4   2.000000   64722.222222      0.0     1.0     0.0  0.0  1.0   0.0    0.0   \n",
       "5   8.000000   73000.000000      0.0     0.0     0.0  0.0  1.0   0.0    1.0   \n",
       "6   9.333333  138000.000000      1.0     0.0     1.0  1.0  1.0   0.0    0.0   \n",
       "7  20.000000   38000.000000      1.0     1.0     0.0  0.0  1.0   0.0    1.0   \n",
       "8  13.000000   67000.000000      0.0     0.0     1.0  0.0  0.0   1.0    0.0   \n",
       "9   7.000000   36000.000000      1.0     1.0     0.0  1.0  1.0   0.0    0.0   \n",
       "\n",
       "   Red  \n",
       "0  1.0  \n",
       "1  0.0  \n",
       "2  0.0  \n",
       "3  0.0  \n",
       "4  0.0  \n",
       "5  0.0  \n",
       "6  0.0  \n",
       "7  0.0  \n",
       "8  0.0  \n",
       "9  0.0  "
      ]
     },
     "execution_count": 51,
     "metadata": {},
     "output_type": "execute_result"
    }
   ],
   "source": [
    "df.iloc[:,:-1]"
   ]
  },
  {
   "cell_type": "code",
   "execution_count": 52,
   "id": "fbd1b38d",
   "metadata": {},
   "outputs": [
    {
     "data": {
      "text/plain": [
       "0    0.0\n",
       "1    0.0\n",
       "2    1.0\n",
       "3    1.0\n",
       "4    0.0\n",
       "5    0.0\n",
       "6    0.0\n",
       "7    0.0\n",
       "8    0.0\n",
       "9    0.0\n",
       "Name: White, dtype: float64"
      ]
     },
     "execution_count": 52,
     "metadata": {},
     "output_type": "execute_result"
    }
   ],
   "source": [
    "df.iloc[:,-1]"
   ]
  },
  {
   "cell_type": "code",
   "execution_count": 45,
   "id": "6e78670f",
   "metadata": {},
   "outputs": [],
   "source": [
    "from sklearn import preprocessing\n",
    "\n",
    "X = df.iloc[:,:-1].values\n",
    "Y = df.iloc[:,-1].values"
   ]
  },
  {
   "cell_type": "code",
   "execution_count": 46,
   "id": "3dd0af28",
   "metadata": {},
   "outputs": [],
   "source": [
    "scaler = preprocessing.StandardScaler().fit(X)"
   ]
  },
  {
   "cell_type": "code",
   "execution_count": 47,
   "id": "12042824",
   "metadata": {},
   "outputs": [
    {
     "data": {
      "text/plain": [
       "array([9.33333333e+00, 6.47222222e+04, 5.00000000e-01, 4.00000000e-01,\n",
       "       4.00000000e-01, 4.00000000e-01, 7.00000000e-01, 1.00000000e-01,\n",
       "       2.00000000e-01, 1.00000000e-01])"
      ]
     },
     "execution_count": 47,
     "metadata": {},
     "output_type": "execute_result"
    }
   ],
   "source": [
    "scaler.mean_"
   ]
  },
  {
   "cell_type": "code",
   "execution_count": 48,
   "id": "7b4db488",
   "metadata": {},
   "outputs": [
    {
     "data": {
      "text/plain": [
       "array([5.62138773e+00, 3.57345149e+04, 5.00000000e-01, 4.89897949e-01,\n",
       "       4.89897949e-01, 4.89897949e-01, 4.58257569e-01, 3.00000000e-01,\n",
       "       4.00000000e-01, 3.00000000e-01])"
      ]
     },
     "execution_count": 48,
     "metadata": {},
     "output_type": "execute_result"
    }
   ],
   "source": [
    "scaler.scale_"
   ]
  },
  {
   "cell_type": "code",
   "execution_count": 49,
   "id": "0bb2d8fc",
   "metadata": {},
   "outputs": [],
   "source": [
    "X_scaled = scaler.transform(X)"
   ]
  },
  {
   "cell_type": "code",
   "execution_count": 50,
   "id": "862e630f",
   "metadata": {},
   "outputs": [
    {
     "data": {
      "text/plain": [
       "array([[-1.30454146e+00, -1.05562430e+00,  1.00000000e+00,\n",
       "        -8.16496581e-01,  1.22474487e+00,  1.22474487e+00,\n",
       "        -1.52752523e+00, -3.33333333e-01, -5.00000000e-01,\n",
       "         3.00000000e+00],\n",
       "       [-9.48757423e-01, -9.57679776e-01,  1.00000000e+00,\n",
       "        -8.16496581e-01, -8.16496581e-01,  1.22474487e+00,\n",
       "         6.54653671e-01, -3.33333333e-01, -5.00000000e-01,\n",
       "        -3.33333333e-01],\n",
       "       [ 1.00805476e+00,  1.54690159e+00, -1.00000000e+00,\n",
       "        -8.16496581e-01,  1.22474487e+00, -8.16496581e-01,\n",
       "        -1.52752523e+00, -3.33333333e-01, -5.00000000e-01,\n",
       "        -3.33333333e-01],\n",
       "       [ 6.52270728e-01, -3.28036417e-01, -1.00000000e+00,\n",
       "         1.22474487e+00, -8.16496581e-01, -8.16496581e-01,\n",
       "         6.54653671e-01, -3.33333333e-01, -5.00000000e-01,\n",
       "        -3.33333333e-01],\n",
       "       [-1.30454146e+00, -2.03611484e-16, -1.00000000e+00,\n",
       "         1.22474487e+00, -8.16496581e-01, -8.16496581e-01,\n",
       "         6.54653671e-01, -3.33333333e-01, -5.00000000e-01,\n",
       "        -3.33333333e-01],\n",
       "       [-2.37189356e-01,  2.31646569e-01, -1.00000000e+00,\n",
       "        -8.16496581e-01, -8.16496581e-01, -8.16496581e-01,\n",
       "         6.54653671e-01, -3.33333333e-01,  2.00000000e+00,\n",
       "        -3.33333333e-01],\n",
       "       [ 0.00000000e+00,  2.05061627e+00,  1.00000000e+00,\n",
       "        -8.16496581e-01,  1.22474487e+00,  1.22474487e+00,\n",
       "         6.54653671e-01, -3.33333333e-01, -5.00000000e-01,\n",
       "        -3.33333333e-01],\n",
       "       [ 1.89751485e+00, -7.47798656e-01,  1.00000000e+00,\n",
       "         1.22474487e+00, -8.16496581e-01, -8.16496581e-01,\n",
       "         6.54653671e-01, -3.33333333e-01,  2.00000000e+00,\n",
       "        -3.33333333e-01],\n",
       "       [ 6.52270728e-01,  6.37416734e-02, -1.00000000e+00,\n",
       "        -8.16496581e-01,  1.22474487e+00, -8.16496581e-01,\n",
       "        -1.52752523e+00,  3.00000000e+00, -5.00000000e-01,\n",
       "        -3.33333333e-01],\n",
       "       [-4.15081372e-01, -8.03766955e-01,  1.00000000e+00,\n",
       "         1.22474487e+00, -8.16496581e-01,  1.22474487e+00,\n",
       "         6.54653671e-01, -3.33333333e-01, -5.00000000e-01,\n",
       "        -3.33333333e-01]])"
      ]
     },
     "execution_count": 50,
     "metadata": {},
     "output_type": "execute_result"
    }
   ],
   "source": [
    "X_scaled"
   ]
  },
  {
   "cell_type": "code",
   "execution_count": 55,
   "id": "78548d6a",
   "metadata": {},
   "outputs": [
    {
     "data": {
      "text/plain": [
       "array([[0.        , 0.        , 1.        , 0.        , 1.        ,\n",
       "        1.        , 0.        , 0.        , 0.        , 1.        ],\n",
       "       [0.11111111, 0.03153153, 1.        , 0.        , 0.        ,\n",
       "        1.        , 1.        , 0.        , 0.        , 0.        ],\n",
       "       [0.72222222, 0.83783784, 0.        , 0.        , 1.        ,\n",
       "        0.        , 0.        , 0.        , 0.        , 0.        ],\n",
       "       [0.61111111, 0.23423423, 0.        , 1.        , 0.        ,\n",
       "        0.        , 1.        , 0.        , 0.        , 0.        ],\n",
       "       [0.        , 0.33983984, 0.        , 1.        , 0.        ,\n",
       "        0.        , 1.        , 0.        , 0.        , 0.        ],\n",
       "       [0.33333333, 0.41441441, 0.        , 0.        , 0.        ,\n",
       "        0.        , 1.        , 0.        , 1.        , 0.        ],\n",
       "       [0.40740741, 1.        , 1.        , 0.        , 1.        ,\n",
       "        1.        , 1.        , 0.        , 0.        , 0.        ],\n",
       "       [1.        , 0.0990991 , 1.        , 1.        , 0.        ,\n",
       "        0.        , 1.        , 0.        , 1.        , 0.        ],\n",
       "       [0.61111111, 0.36036036, 0.        , 0.        , 1.        ,\n",
       "        0.        , 0.        , 1.        , 0.        , 0.        ],\n",
       "       [0.27777778, 0.08108108, 1.        , 1.        , 0.        ,\n",
       "        1.        , 1.        , 0.        , 0.        , 0.        ]])"
      ]
     },
     "execution_count": 55,
     "metadata": {},
     "output_type": "execute_result"
    }
   ],
   "source": [
    "min_max_scaler = preprocessing.MinMaxScaler()\n",
    "X_minmax = min_max_scaler.fit_transform(X)\n",
    "X_minmax"
   ]
  },
  {
   "cell_type": "code",
   "execution_count": null,
   "id": "319be1a9",
   "metadata": {},
   "outputs": [],
   "source": []
  }
 ],
 "metadata": {
  "kernelspec": {
   "display_name": "Python 3 (ipykernel)",
   "language": "python",
   "name": "python3"
  },
  "language_info": {
   "codemirror_mode": {
    "name": "ipython",
    "version": 3
   },
   "file_extension": ".py",
   "mimetype": "text/x-python",
   "name": "python",
   "nbconvert_exporter": "python",
   "pygments_lexer": "ipython3",
   "version": "3.9.12"
  }
 },
 "nbformat": 4,
 "nbformat_minor": 5
}
