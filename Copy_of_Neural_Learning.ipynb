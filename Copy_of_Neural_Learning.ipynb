{
  "nbformat": 4,
  "nbformat_minor": 0,
  "metadata": {
    "colab": {
      "provenance": [],
      "authorship_tag": "ABX9TyPyB5rwZy0y5ukskM2R1gE9",
      "include_colab_link": true
    },
    "kernelspec": {
      "name": "python3",
      "display_name": "Python 3"
    },
    "language_info": {
      "name": "python"
    },
    "accelerator": "GPU"
  },
  "cells": [
    {
      "cell_type": "markdown",
      "metadata": {
        "id": "view-in-github",
        "colab_type": "text"
      },
      "source": [
        "<a href=\"https://colab.research.google.com/github/Unstinted/Data-Analysis/blob/main/Copy_of_Neural_Learning.ipynb\" target=\"_parent\"><img src=\"https://colab.research.google.com/assets/colab-badge.svg\" alt=\"Open In Colab\"/></a>"
      ]
    },
    {
      "cell_type": "code",
      "source": [
        "import numpy as np\n",
        "import pandas as pd\n",
        "import matplotlib.pyplot as plt\n",
        "import tensorflow as tf\n",
        "import seaborn as sns\n",
        "from sklearn.preprocessing import StandardScaler\n",
        "from sklearn.model_selection import train_test_split\n"
      ],
      "metadata": {
        "id": "6QuH87myLeWK"
      },
      "execution_count": null,
      "outputs": []
    },
    {
      "cell_type": "code",
      "source": [
        "cardio_data = pd.read_csv('Cardiotocographic.csv')\n",
        "cardio_data.head()"
      ],
      "metadata": {
        "colab": {
          "base_uri": "https://localhost:8080/",
          "height": 206
        },
        "id": "aMZqOuN4MNck",
        "outputId": "8fb0fe10-2893-4e0a-e08c-c28410168118"
      },
      "execution_count": null,
      "outputs": [
        {
          "output_type": "execute_result",
          "data": {
            "text/plain": [
              "   BPM       APC  FMPS      UCPS      DLPS  SDPS  PDPS  ASTV  MSTV  ALTV  \\\n",
              "0  120  0.000000   0.0  0.000000  0.000000   0.0   0.0    73   0.5    43   \n",
              "1  132  0.006380   0.0  0.006380  0.003190   0.0   0.0    17   2.1     0   \n",
              "2  133  0.003322   0.0  0.008306  0.003322   0.0   0.0    16   2.1     0   \n",
              "3  134  0.002561   0.0  0.007682  0.002561   0.0   0.0    16   2.4     0   \n",
              "4  132  0.006515   0.0  0.008143  0.000000   0.0   0.0    16   2.4     0   \n",
              "\n",
              "   MLTV  Width  Min  Max  NSP  \n",
              "0   2.4     64   62  126    2  \n",
              "1  10.4    130   68  198    1  \n",
              "2  13.4    130   68  198    1  \n",
              "3  23.0    117   53  170    1  \n",
              "4  19.9    117   53  170    1  "
            ],
            "text/html": [
              "\n",
              "  <div id=\"df-404f338a-521e-42dc-a32e-45f222ac6eae\">\n",
              "    <div class=\"colab-df-container\">\n",
              "      <div>\n",
              "<style scoped>\n",
              "    .dataframe tbody tr th:only-of-type {\n",
              "        vertical-align: middle;\n",
              "    }\n",
              "\n",
              "    .dataframe tbody tr th {\n",
              "        vertical-align: top;\n",
              "    }\n",
              "\n",
              "    .dataframe thead th {\n",
              "        text-align: right;\n",
              "    }\n",
              "</style>\n",
              "<table border=\"1\" class=\"dataframe\">\n",
              "  <thead>\n",
              "    <tr style=\"text-align: right;\">\n",
              "      <th></th>\n",
              "      <th>BPM</th>\n",
              "      <th>APC</th>\n",
              "      <th>FMPS</th>\n",
              "      <th>UCPS</th>\n",
              "      <th>DLPS</th>\n",
              "      <th>SDPS</th>\n",
              "      <th>PDPS</th>\n",
              "      <th>ASTV</th>\n",
              "      <th>MSTV</th>\n",
              "      <th>ALTV</th>\n",
              "      <th>MLTV</th>\n",
              "      <th>Width</th>\n",
              "      <th>Min</th>\n",
              "      <th>Max</th>\n",
              "      <th>NSP</th>\n",
              "    </tr>\n",
              "  </thead>\n",
              "  <tbody>\n",
              "    <tr>\n",
              "      <th>0</th>\n",
              "      <td>120</td>\n",
              "      <td>0.000000</td>\n",
              "      <td>0.0</td>\n",
              "      <td>0.000000</td>\n",
              "      <td>0.000000</td>\n",
              "      <td>0.0</td>\n",
              "      <td>0.0</td>\n",
              "      <td>73</td>\n",
              "      <td>0.5</td>\n",
              "      <td>43</td>\n",
              "      <td>2.4</td>\n",
              "      <td>64</td>\n",
              "      <td>62</td>\n",
              "      <td>126</td>\n",
              "      <td>2</td>\n",
              "    </tr>\n",
              "    <tr>\n",
              "      <th>1</th>\n",
              "      <td>132</td>\n",
              "      <td>0.006380</td>\n",
              "      <td>0.0</td>\n",
              "      <td>0.006380</td>\n",
              "      <td>0.003190</td>\n",
              "      <td>0.0</td>\n",
              "      <td>0.0</td>\n",
              "      <td>17</td>\n",
              "      <td>2.1</td>\n",
              "      <td>0</td>\n",
              "      <td>10.4</td>\n",
              "      <td>130</td>\n",
              "      <td>68</td>\n",
              "      <td>198</td>\n",
              "      <td>1</td>\n",
              "    </tr>\n",
              "    <tr>\n",
              "      <th>2</th>\n",
              "      <td>133</td>\n",
              "      <td>0.003322</td>\n",
              "      <td>0.0</td>\n",
              "      <td>0.008306</td>\n",
              "      <td>0.003322</td>\n",
              "      <td>0.0</td>\n",
              "      <td>0.0</td>\n",
              "      <td>16</td>\n",
              "      <td>2.1</td>\n",
              "      <td>0</td>\n",
              "      <td>13.4</td>\n",
              "      <td>130</td>\n",
              "      <td>68</td>\n",
              "      <td>198</td>\n",
              "      <td>1</td>\n",
              "    </tr>\n",
              "    <tr>\n",
              "      <th>3</th>\n",
              "      <td>134</td>\n",
              "      <td>0.002561</td>\n",
              "      <td>0.0</td>\n",
              "      <td>0.007682</td>\n",
              "      <td>0.002561</td>\n",
              "      <td>0.0</td>\n",
              "      <td>0.0</td>\n",
              "      <td>16</td>\n",
              "      <td>2.4</td>\n",
              "      <td>0</td>\n",
              "      <td>23.0</td>\n",
              "      <td>117</td>\n",
              "      <td>53</td>\n",
              "      <td>170</td>\n",
              "      <td>1</td>\n",
              "    </tr>\n",
              "    <tr>\n",
              "      <th>4</th>\n",
              "      <td>132</td>\n",
              "      <td>0.006515</td>\n",
              "      <td>0.0</td>\n",
              "      <td>0.008143</td>\n",
              "      <td>0.000000</td>\n",
              "      <td>0.0</td>\n",
              "      <td>0.0</td>\n",
              "      <td>16</td>\n",
              "      <td>2.4</td>\n",
              "      <td>0</td>\n",
              "      <td>19.9</td>\n",
              "      <td>117</td>\n",
              "      <td>53</td>\n",
              "      <td>170</td>\n",
              "      <td>1</td>\n",
              "    </tr>\n",
              "  </tbody>\n",
              "</table>\n",
              "</div>\n",
              "      <button class=\"colab-df-convert\" onclick=\"convertToInteractive('df-404f338a-521e-42dc-a32e-45f222ac6eae')\"\n",
              "              title=\"Convert this dataframe to an interactive table.\"\n",
              "              style=\"display:none;\">\n",
              "        \n",
              "  <svg xmlns=\"http://www.w3.org/2000/svg\" height=\"24px\"viewBox=\"0 0 24 24\"\n",
              "       width=\"24px\">\n",
              "    <path d=\"M0 0h24v24H0V0z\" fill=\"none\"/>\n",
              "    <path d=\"M18.56 5.44l.94 2.06.94-2.06 2.06-.94-2.06-.94-.94-2.06-.94 2.06-2.06.94zm-11 1L8.5 8.5l.94-2.06 2.06-.94-2.06-.94L8.5 2.5l-.94 2.06-2.06.94zm10 10l.94 2.06.94-2.06 2.06-.94-2.06-.94-.94-2.06-.94 2.06-2.06.94z\"/><path d=\"M17.41 7.96l-1.37-1.37c-.4-.4-.92-.59-1.43-.59-.52 0-1.04.2-1.43.59L10.3 9.45l-7.72 7.72c-.78.78-.78 2.05 0 2.83L4 21.41c.39.39.9.59 1.41.59.51 0 1.02-.2 1.41-.59l7.78-7.78 2.81-2.81c.8-.78.8-2.07 0-2.86zM5.41 20L4 18.59l7.72-7.72 1.47 1.35L5.41 20z\"/>\n",
              "  </svg>\n",
              "      </button>\n",
              "      \n",
              "  <style>\n",
              "    .colab-df-container {\n",
              "      display:flex;\n",
              "      flex-wrap:wrap;\n",
              "      gap: 12px;\n",
              "    }\n",
              "\n",
              "    .colab-df-convert {\n",
              "      background-color: #E8F0FE;\n",
              "      border: none;\n",
              "      border-radius: 50%;\n",
              "      cursor: pointer;\n",
              "      display: none;\n",
              "      fill: #1967D2;\n",
              "      height: 32px;\n",
              "      padding: 0 0 0 0;\n",
              "      width: 32px;\n",
              "    }\n",
              "\n",
              "    .colab-df-convert:hover {\n",
              "      background-color: #E2EBFA;\n",
              "      box-shadow: 0px 1px 2px rgba(60, 64, 67, 0.3), 0px 1px 3px 1px rgba(60, 64, 67, 0.15);\n",
              "      fill: #174EA6;\n",
              "    }\n",
              "\n",
              "    [theme=dark] .colab-df-convert {\n",
              "      background-color: #3B4455;\n",
              "      fill: #D2E3FC;\n",
              "    }\n",
              "\n",
              "    [theme=dark] .colab-df-convert:hover {\n",
              "      background-color: #434B5C;\n",
              "      box-shadow: 0px 1px 3px 1px rgba(0, 0, 0, 0.15);\n",
              "      filter: drop-shadow(0px 1px 2px rgba(0, 0, 0, 0.3));\n",
              "      fill: #FFFFFF;\n",
              "    }\n",
              "  </style>\n",
              "\n",
              "      <script>\n",
              "        const buttonEl =\n",
              "          document.querySelector('#df-404f338a-521e-42dc-a32e-45f222ac6eae button.colab-df-convert');\n",
              "        buttonEl.style.display =\n",
              "          google.colab.kernel.accessAllowed ? 'block' : 'none';\n",
              "\n",
              "        async function convertToInteractive(key) {\n",
              "          const element = document.querySelector('#df-404f338a-521e-42dc-a32e-45f222ac6eae');\n",
              "          const dataTable =\n",
              "            await google.colab.kernel.invokeFunction('convertToInteractive',\n",
              "                                                     [key], {});\n",
              "          if (!dataTable) return;\n",
              "\n",
              "          const docLinkHtml = 'Like what you see? Visit the ' +\n",
              "            '<a target=\"_blank\" href=https://colab.research.google.com/notebooks/data_table.ipynb>data table notebook</a>'\n",
              "            + ' to learn more about interactive tables.';\n",
              "          element.innerHTML = '';\n",
              "          dataTable['output_type'] = 'display_data';\n",
              "          await google.colab.output.renderOutput(dataTable, element);\n",
              "          const docLink = document.createElement('div');\n",
              "          docLink.innerHTML = docLinkHtml;\n",
              "          element.appendChild(docLink);\n",
              "        }\n",
              "      </script>\n",
              "    </div>\n",
              "  </div>\n",
              "  "
            ]
          },
          "metadata": {},
          "execution_count": 3
        }
      ]
    },
    {
      "cell_type": "code",
      "source": [
        "cardio_data.tail()"
      ],
      "metadata": {
        "colab": {
          "base_uri": "https://localhost:8080/",
          "height": 206
        },
        "id": "a_LvucbGMf1i",
        "outputId": "62daa772-f8a8-4188-8048-51e445e5385f"
      },
      "execution_count": null,
      "outputs": [
        {
          "output_type": "execute_result",
          "data": {
            "text/plain": [
              "      BPM       APC      FMPS      UCPS  DLPS  SDPS  PDPS  ASTV  MSTV  ALTV  \\\n",
              "2121  140  0.000000  0.000000  0.007426   0.0   0.0   0.0    79   0.2    25   \n",
              "2122  140  0.000775  0.000000  0.006971   0.0   0.0   0.0    78   0.4    22   \n",
              "2123  140  0.000980  0.000000  0.006863   0.0   0.0   0.0    79   0.4    20   \n",
              "2124  140  0.000679  0.000000  0.006110   0.0   0.0   0.0    78   0.4    27   \n",
              "2125  142  0.001616  0.001616  0.008078   0.0   0.0   0.0    74   0.4    36   \n",
              "\n",
              "      MLTV  Width  Min  Max  NSP  \n",
              "2121   7.2     40  137  177    2  \n",
              "2122   7.1     66  103  169    2  \n",
              "2123   6.1     67  103  170    2  \n",
              "2124   7.0     66  103  169    2  \n",
              "2125   5.0     42  117  159    1  "
            ],
            "text/html": [
              "\n",
              "  <div id=\"df-eee7ca49-d732-4187-ac62-3ee5d5b5f7d5\">\n",
              "    <div class=\"colab-df-container\">\n",
              "      <div>\n",
              "<style scoped>\n",
              "    .dataframe tbody tr th:only-of-type {\n",
              "        vertical-align: middle;\n",
              "    }\n",
              "\n",
              "    .dataframe tbody tr th {\n",
              "        vertical-align: top;\n",
              "    }\n",
              "\n",
              "    .dataframe thead th {\n",
              "        text-align: right;\n",
              "    }\n",
              "</style>\n",
              "<table border=\"1\" class=\"dataframe\">\n",
              "  <thead>\n",
              "    <tr style=\"text-align: right;\">\n",
              "      <th></th>\n",
              "      <th>BPM</th>\n",
              "      <th>APC</th>\n",
              "      <th>FMPS</th>\n",
              "      <th>UCPS</th>\n",
              "      <th>DLPS</th>\n",
              "      <th>SDPS</th>\n",
              "      <th>PDPS</th>\n",
              "      <th>ASTV</th>\n",
              "      <th>MSTV</th>\n",
              "      <th>ALTV</th>\n",
              "      <th>MLTV</th>\n",
              "      <th>Width</th>\n",
              "      <th>Min</th>\n",
              "      <th>Max</th>\n",
              "      <th>NSP</th>\n",
              "    </tr>\n",
              "  </thead>\n",
              "  <tbody>\n",
              "    <tr>\n",
              "      <th>2121</th>\n",
              "      <td>140</td>\n",
              "      <td>0.000000</td>\n",
              "      <td>0.000000</td>\n",
              "      <td>0.007426</td>\n",
              "      <td>0.0</td>\n",
              "      <td>0.0</td>\n",
              "      <td>0.0</td>\n",
              "      <td>79</td>\n",
              "      <td>0.2</td>\n",
              "      <td>25</td>\n",
              "      <td>7.2</td>\n",
              "      <td>40</td>\n",
              "      <td>137</td>\n",
              "      <td>177</td>\n",
              "      <td>2</td>\n",
              "    </tr>\n",
              "    <tr>\n",
              "      <th>2122</th>\n",
              "      <td>140</td>\n",
              "      <td>0.000775</td>\n",
              "      <td>0.000000</td>\n",
              "      <td>0.006971</td>\n",
              "      <td>0.0</td>\n",
              "      <td>0.0</td>\n",
              "      <td>0.0</td>\n",
              "      <td>78</td>\n",
              "      <td>0.4</td>\n",
              "      <td>22</td>\n",
              "      <td>7.1</td>\n",
              "      <td>66</td>\n",
              "      <td>103</td>\n",
              "      <td>169</td>\n",
              "      <td>2</td>\n",
              "    </tr>\n",
              "    <tr>\n",
              "      <th>2123</th>\n",
              "      <td>140</td>\n",
              "      <td>0.000980</td>\n",
              "      <td>0.000000</td>\n",
              "      <td>0.006863</td>\n",
              "      <td>0.0</td>\n",
              "      <td>0.0</td>\n",
              "      <td>0.0</td>\n",
              "      <td>79</td>\n",
              "      <td>0.4</td>\n",
              "      <td>20</td>\n",
              "      <td>6.1</td>\n",
              "      <td>67</td>\n",
              "      <td>103</td>\n",
              "      <td>170</td>\n",
              "      <td>2</td>\n",
              "    </tr>\n",
              "    <tr>\n",
              "      <th>2124</th>\n",
              "      <td>140</td>\n",
              "      <td>0.000679</td>\n",
              "      <td>0.000000</td>\n",
              "      <td>0.006110</td>\n",
              "      <td>0.0</td>\n",
              "      <td>0.0</td>\n",
              "      <td>0.0</td>\n",
              "      <td>78</td>\n",
              "      <td>0.4</td>\n",
              "      <td>27</td>\n",
              "      <td>7.0</td>\n",
              "      <td>66</td>\n",
              "      <td>103</td>\n",
              "      <td>169</td>\n",
              "      <td>2</td>\n",
              "    </tr>\n",
              "    <tr>\n",
              "      <th>2125</th>\n",
              "      <td>142</td>\n",
              "      <td>0.001616</td>\n",
              "      <td>0.001616</td>\n",
              "      <td>0.008078</td>\n",
              "      <td>0.0</td>\n",
              "      <td>0.0</td>\n",
              "      <td>0.0</td>\n",
              "      <td>74</td>\n",
              "      <td>0.4</td>\n",
              "      <td>36</td>\n",
              "      <td>5.0</td>\n",
              "      <td>42</td>\n",
              "      <td>117</td>\n",
              "      <td>159</td>\n",
              "      <td>1</td>\n",
              "    </tr>\n",
              "  </tbody>\n",
              "</table>\n",
              "</div>\n",
              "      <button class=\"colab-df-convert\" onclick=\"convertToInteractive('df-eee7ca49-d732-4187-ac62-3ee5d5b5f7d5')\"\n",
              "              title=\"Convert this dataframe to an interactive table.\"\n",
              "              style=\"display:none;\">\n",
              "        \n",
              "  <svg xmlns=\"http://www.w3.org/2000/svg\" height=\"24px\"viewBox=\"0 0 24 24\"\n",
              "       width=\"24px\">\n",
              "    <path d=\"M0 0h24v24H0V0z\" fill=\"none\"/>\n",
              "    <path d=\"M18.56 5.44l.94 2.06.94-2.06 2.06-.94-2.06-.94-.94-2.06-.94 2.06-2.06.94zm-11 1L8.5 8.5l.94-2.06 2.06-.94-2.06-.94L8.5 2.5l-.94 2.06-2.06.94zm10 10l.94 2.06.94-2.06 2.06-.94-2.06-.94-.94-2.06-.94 2.06-2.06.94z\"/><path d=\"M17.41 7.96l-1.37-1.37c-.4-.4-.92-.59-1.43-.59-.52 0-1.04.2-1.43.59L10.3 9.45l-7.72 7.72c-.78.78-.78 2.05 0 2.83L4 21.41c.39.39.9.59 1.41.59.51 0 1.02-.2 1.41-.59l7.78-7.78 2.81-2.81c.8-.78.8-2.07 0-2.86zM5.41 20L4 18.59l7.72-7.72 1.47 1.35L5.41 20z\"/>\n",
              "  </svg>\n",
              "      </button>\n",
              "      \n",
              "  <style>\n",
              "    .colab-df-container {\n",
              "      display:flex;\n",
              "      flex-wrap:wrap;\n",
              "      gap: 12px;\n",
              "    }\n",
              "\n",
              "    .colab-df-convert {\n",
              "      background-color: #E8F0FE;\n",
              "      border: none;\n",
              "      border-radius: 50%;\n",
              "      cursor: pointer;\n",
              "      display: none;\n",
              "      fill: #1967D2;\n",
              "      height: 32px;\n",
              "      padding: 0 0 0 0;\n",
              "      width: 32px;\n",
              "    }\n",
              "\n",
              "    .colab-df-convert:hover {\n",
              "      background-color: #E2EBFA;\n",
              "      box-shadow: 0px 1px 2px rgba(60, 64, 67, 0.3), 0px 1px 3px 1px rgba(60, 64, 67, 0.15);\n",
              "      fill: #174EA6;\n",
              "    }\n",
              "\n",
              "    [theme=dark] .colab-df-convert {\n",
              "      background-color: #3B4455;\n",
              "      fill: #D2E3FC;\n",
              "    }\n",
              "\n",
              "    [theme=dark] .colab-df-convert:hover {\n",
              "      background-color: #434B5C;\n",
              "      box-shadow: 0px 1px 3px 1px rgba(0, 0, 0, 0.15);\n",
              "      filter: drop-shadow(0px 1px 2px rgba(0, 0, 0, 0.3));\n",
              "      fill: #FFFFFF;\n",
              "    }\n",
              "  </style>\n",
              "\n",
              "      <script>\n",
              "        const buttonEl =\n",
              "          document.querySelector('#df-eee7ca49-d732-4187-ac62-3ee5d5b5f7d5 button.colab-df-convert');\n",
              "        buttonEl.style.display =\n",
              "          google.colab.kernel.accessAllowed ? 'block' : 'none';\n",
              "\n",
              "        async function convertToInteractive(key) {\n",
              "          const element = document.querySelector('#df-eee7ca49-d732-4187-ac62-3ee5d5b5f7d5');\n",
              "          const dataTable =\n",
              "            await google.colab.kernel.invokeFunction('convertToInteractive',\n",
              "                                                     [key], {});\n",
              "          if (!dataTable) return;\n",
              "\n",
              "          const docLinkHtml = 'Like what you see? Visit the ' +\n",
              "            '<a target=\"_blank\" href=https://colab.research.google.com/notebooks/data_table.ipynb>data table notebook</a>'\n",
              "            + ' to learn more about interactive tables.';\n",
              "          element.innerHTML = '';\n",
              "          dataTable['output_type'] = 'display_data';\n",
              "          await google.colab.output.renderOutput(dataTable, element);\n",
              "          const docLink = document.createElement('div');\n",
              "          docLink.innerHTML = docLinkHtml;\n",
              "          element.appendChild(docLink);\n",
              "        }\n",
              "      </script>\n",
              "    </div>\n",
              "  </div>\n",
              "  "
            ]
          },
          "metadata": {},
          "execution_count": 4
        }
      ]
    },
    {
      "cell_type": "code",
      "source": [
        "cardio_data.describe()"
      ],
      "metadata": {
        "colab": {
          "base_uri": "https://localhost:8080/",
          "height": 364
        },
        "id": "W2Tobel9Mmdp",
        "outputId": "25378d3c-2369-4851-f304-8626cbcf15ae"
      },
      "execution_count": null,
      "outputs": [
        {
          "output_type": "execute_result",
          "data": {
            "text/plain": [
              "               BPM          APC         FMPS         UCPS         DLPS  \\\n",
              "count  2126.000000  2126.000000  2126.000000  2126.000000  2126.000000   \n",
              "mean    133.303857     0.003170     0.009474     0.004357     0.001885   \n",
              "std       9.840844     0.003860     0.046670     0.002940     0.002962   \n",
              "min     106.000000     0.000000     0.000000     0.000000     0.000000   \n",
              "25%     126.000000     0.000000     0.000000     0.001876     0.000000   \n",
              "50%     133.000000     0.001630     0.000000     0.004482     0.000000   \n",
              "75%     140.000000     0.005631     0.002512     0.006525     0.003264   \n",
              "max     160.000000     0.019284     0.480634     0.014925     0.015385   \n",
              "\n",
              "              SDPS         PDPS         ASTV         MSTV        ALTV  \\\n",
              "count  2126.000000  2126.000000  2126.000000  2126.000000  2126.00000   \n",
              "mean      0.000004     0.000157    46.990122     1.332785     9.84666   \n",
              "std       0.000063     0.000580    17.192814     0.883241    18.39688   \n",
              "min       0.000000     0.000000    12.000000     0.200000     0.00000   \n",
              "25%       0.000000     0.000000    32.000000     0.700000     0.00000   \n",
              "50%       0.000000     0.000000    49.000000     1.200000     0.00000   \n",
              "75%       0.000000     0.000000    61.000000     1.700000    11.00000   \n",
              "max       0.001353     0.005348    87.000000     7.000000    91.00000   \n",
              "\n",
              "              MLTV        Width          Min          Max          NSP  \n",
              "count  2126.000000  2126.000000  2126.000000  2126.000000  2126.000000  \n",
              "mean      8.187629    70.445908    93.579492   164.025400     1.304327  \n",
              "std       5.628247    38.955693    29.560212    17.944183     0.614377  \n",
              "min       0.000000     3.000000    50.000000   122.000000     1.000000  \n",
              "25%       4.600000    37.000000    67.000000   152.000000     1.000000  \n",
              "50%       7.400000    67.500000    93.000000   162.000000     1.000000  \n",
              "75%      10.800000   100.000000   120.000000   174.000000     1.000000  \n",
              "max      50.700000   180.000000   159.000000   238.000000     3.000000  "
            ],
            "text/html": [
              "\n",
              "  <div id=\"df-73415709-d9ac-4188-b32c-3c9f1a6ddda6\">\n",
              "    <div class=\"colab-df-container\">\n",
              "      <div>\n",
              "<style scoped>\n",
              "    .dataframe tbody tr th:only-of-type {\n",
              "        vertical-align: middle;\n",
              "    }\n",
              "\n",
              "    .dataframe tbody tr th {\n",
              "        vertical-align: top;\n",
              "    }\n",
              "\n",
              "    .dataframe thead th {\n",
              "        text-align: right;\n",
              "    }\n",
              "</style>\n",
              "<table border=\"1\" class=\"dataframe\">\n",
              "  <thead>\n",
              "    <tr style=\"text-align: right;\">\n",
              "      <th></th>\n",
              "      <th>BPM</th>\n",
              "      <th>APC</th>\n",
              "      <th>FMPS</th>\n",
              "      <th>UCPS</th>\n",
              "      <th>DLPS</th>\n",
              "      <th>SDPS</th>\n",
              "      <th>PDPS</th>\n",
              "      <th>ASTV</th>\n",
              "      <th>MSTV</th>\n",
              "      <th>ALTV</th>\n",
              "      <th>MLTV</th>\n",
              "      <th>Width</th>\n",
              "      <th>Min</th>\n",
              "      <th>Max</th>\n",
              "      <th>NSP</th>\n",
              "    </tr>\n",
              "  </thead>\n",
              "  <tbody>\n",
              "    <tr>\n",
              "      <th>count</th>\n",
              "      <td>2126.000000</td>\n",
              "      <td>2126.000000</td>\n",
              "      <td>2126.000000</td>\n",
              "      <td>2126.000000</td>\n",
              "      <td>2126.000000</td>\n",
              "      <td>2126.000000</td>\n",
              "      <td>2126.000000</td>\n",
              "      <td>2126.000000</td>\n",
              "      <td>2126.000000</td>\n",
              "      <td>2126.00000</td>\n",
              "      <td>2126.000000</td>\n",
              "      <td>2126.000000</td>\n",
              "      <td>2126.000000</td>\n",
              "      <td>2126.000000</td>\n",
              "      <td>2126.000000</td>\n",
              "    </tr>\n",
              "    <tr>\n",
              "      <th>mean</th>\n",
              "      <td>133.303857</td>\n",
              "      <td>0.003170</td>\n",
              "      <td>0.009474</td>\n",
              "      <td>0.004357</td>\n",
              "      <td>0.001885</td>\n",
              "      <td>0.000004</td>\n",
              "      <td>0.000157</td>\n",
              "      <td>46.990122</td>\n",
              "      <td>1.332785</td>\n",
              "      <td>9.84666</td>\n",
              "      <td>8.187629</td>\n",
              "      <td>70.445908</td>\n",
              "      <td>93.579492</td>\n",
              "      <td>164.025400</td>\n",
              "      <td>1.304327</td>\n",
              "    </tr>\n",
              "    <tr>\n",
              "      <th>std</th>\n",
              "      <td>9.840844</td>\n",
              "      <td>0.003860</td>\n",
              "      <td>0.046670</td>\n",
              "      <td>0.002940</td>\n",
              "      <td>0.002962</td>\n",
              "      <td>0.000063</td>\n",
              "      <td>0.000580</td>\n",
              "      <td>17.192814</td>\n",
              "      <td>0.883241</td>\n",
              "      <td>18.39688</td>\n",
              "      <td>5.628247</td>\n",
              "      <td>38.955693</td>\n",
              "      <td>29.560212</td>\n",
              "      <td>17.944183</td>\n",
              "      <td>0.614377</td>\n",
              "    </tr>\n",
              "    <tr>\n",
              "      <th>min</th>\n",
              "      <td>106.000000</td>\n",
              "      <td>0.000000</td>\n",
              "      <td>0.000000</td>\n",
              "      <td>0.000000</td>\n",
              "      <td>0.000000</td>\n",
              "      <td>0.000000</td>\n",
              "      <td>0.000000</td>\n",
              "      <td>12.000000</td>\n",
              "      <td>0.200000</td>\n",
              "      <td>0.00000</td>\n",
              "      <td>0.000000</td>\n",
              "      <td>3.000000</td>\n",
              "      <td>50.000000</td>\n",
              "      <td>122.000000</td>\n",
              "      <td>1.000000</td>\n",
              "    </tr>\n",
              "    <tr>\n",
              "      <th>25%</th>\n",
              "      <td>126.000000</td>\n",
              "      <td>0.000000</td>\n",
              "      <td>0.000000</td>\n",
              "      <td>0.001876</td>\n",
              "      <td>0.000000</td>\n",
              "      <td>0.000000</td>\n",
              "      <td>0.000000</td>\n",
              "      <td>32.000000</td>\n",
              "      <td>0.700000</td>\n",
              "      <td>0.00000</td>\n",
              "      <td>4.600000</td>\n",
              "      <td>37.000000</td>\n",
              "      <td>67.000000</td>\n",
              "      <td>152.000000</td>\n",
              "      <td>1.000000</td>\n",
              "    </tr>\n",
              "    <tr>\n",
              "      <th>50%</th>\n",
              "      <td>133.000000</td>\n",
              "      <td>0.001630</td>\n",
              "      <td>0.000000</td>\n",
              "      <td>0.004482</td>\n",
              "      <td>0.000000</td>\n",
              "      <td>0.000000</td>\n",
              "      <td>0.000000</td>\n",
              "      <td>49.000000</td>\n",
              "      <td>1.200000</td>\n",
              "      <td>0.00000</td>\n",
              "      <td>7.400000</td>\n",
              "      <td>67.500000</td>\n",
              "      <td>93.000000</td>\n",
              "      <td>162.000000</td>\n",
              "      <td>1.000000</td>\n",
              "    </tr>\n",
              "    <tr>\n",
              "      <th>75%</th>\n",
              "      <td>140.000000</td>\n",
              "      <td>0.005631</td>\n",
              "      <td>0.002512</td>\n",
              "      <td>0.006525</td>\n",
              "      <td>0.003264</td>\n",
              "      <td>0.000000</td>\n",
              "      <td>0.000000</td>\n",
              "      <td>61.000000</td>\n",
              "      <td>1.700000</td>\n",
              "      <td>11.00000</td>\n",
              "      <td>10.800000</td>\n",
              "      <td>100.000000</td>\n",
              "      <td>120.000000</td>\n",
              "      <td>174.000000</td>\n",
              "      <td>1.000000</td>\n",
              "    </tr>\n",
              "    <tr>\n",
              "      <th>max</th>\n",
              "      <td>160.000000</td>\n",
              "      <td>0.019284</td>\n",
              "      <td>0.480634</td>\n",
              "      <td>0.014925</td>\n",
              "      <td>0.015385</td>\n",
              "      <td>0.001353</td>\n",
              "      <td>0.005348</td>\n",
              "      <td>87.000000</td>\n",
              "      <td>7.000000</td>\n",
              "      <td>91.00000</td>\n",
              "      <td>50.700000</td>\n",
              "      <td>180.000000</td>\n",
              "      <td>159.000000</td>\n",
              "      <td>238.000000</td>\n",
              "      <td>3.000000</td>\n",
              "    </tr>\n",
              "  </tbody>\n",
              "</table>\n",
              "</div>\n",
              "      <button class=\"colab-df-convert\" onclick=\"convertToInteractive('df-73415709-d9ac-4188-b32c-3c9f1a6ddda6')\"\n",
              "              title=\"Convert this dataframe to an interactive table.\"\n",
              "              style=\"display:none;\">\n",
              "        \n",
              "  <svg xmlns=\"http://www.w3.org/2000/svg\" height=\"24px\"viewBox=\"0 0 24 24\"\n",
              "       width=\"24px\">\n",
              "    <path d=\"M0 0h24v24H0V0z\" fill=\"none\"/>\n",
              "    <path d=\"M18.56 5.44l.94 2.06.94-2.06 2.06-.94-2.06-.94-.94-2.06-.94 2.06-2.06.94zm-11 1L8.5 8.5l.94-2.06 2.06-.94-2.06-.94L8.5 2.5l-.94 2.06-2.06.94zm10 10l.94 2.06.94-2.06 2.06-.94-2.06-.94-.94-2.06-.94 2.06-2.06.94z\"/><path d=\"M17.41 7.96l-1.37-1.37c-.4-.4-.92-.59-1.43-.59-.52 0-1.04.2-1.43.59L10.3 9.45l-7.72 7.72c-.78.78-.78 2.05 0 2.83L4 21.41c.39.39.9.59 1.41.59.51 0 1.02-.2 1.41-.59l7.78-7.78 2.81-2.81c.8-.78.8-2.07 0-2.86zM5.41 20L4 18.59l7.72-7.72 1.47 1.35L5.41 20z\"/>\n",
              "  </svg>\n",
              "      </button>\n",
              "      \n",
              "  <style>\n",
              "    .colab-df-container {\n",
              "      display:flex;\n",
              "      flex-wrap:wrap;\n",
              "      gap: 12px;\n",
              "    }\n",
              "\n",
              "    .colab-df-convert {\n",
              "      background-color: #E8F0FE;\n",
              "      border: none;\n",
              "      border-radius: 50%;\n",
              "      cursor: pointer;\n",
              "      display: none;\n",
              "      fill: #1967D2;\n",
              "      height: 32px;\n",
              "      padding: 0 0 0 0;\n",
              "      width: 32px;\n",
              "    }\n",
              "\n",
              "    .colab-df-convert:hover {\n",
              "      background-color: #E2EBFA;\n",
              "      box-shadow: 0px 1px 2px rgba(60, 64, 67, 0.3), 0px 1px 3px 1px rgba(60, 64, 67, 0.15);\n",
              "      fill: #174EA6;\n",
              "    }\n",
              "\n",
              "    [theme=dark] .colab-df-convert {\n",
              "      background-color: #3B4455;\n",
              "      fill: #D2E3FC;\n",
              "    }\n",
              "\n",
              "    [theme=dark] .colab-df-convert:hover {\n",
              "      background-color: #434B5C;\n",
              "      box-shadow: 0px 1px 3px 1px rgba(0, 0, 0, 0.15);\n",
              "      filter: drop-shadow(0px 1px 2px rgba(0, 0, 0, 0.3));\n",
              "      fill: #FFFFFF;\n",
              "    }\n",
              "  </style>\n",
              "\n",
              "      <script>\n",
              "        const buttonEl =\n",
              "          document.querySelector('#df-73415709-d9ac-4188-b32c-3c9f1a6ddda6 button.colab-df-convert');\n",
              "        buttonEl.style.display =\n",
              "          google.colab.kernel.accessAllowed ? 'block' : 'none';\n",
              "\n",
              "        async function convertToInteractive(key) {\n",
              "          const element = document.querySelector('#df-73415709-d9ac-4188-b32c-3c9f1a6ddda6');\n",
              "          const dataTable =\n",
              "            await google.colab.kernel.invokeFunction('convertToInteractive',\n",
              "                                                     [key], {});\n",
              "          if (!dataTable) return;\n",
              "\n",
              "          const docLinkHtml = 'Like what you see? Visit the ' +\n",
              "            '<a target=\"_blank\" href=https://colab.research.google.com/notebooks/data_table.ipynb>data table notebook</a>'\n",
              "            + ' to learn more about interactive tables.';\n",
              "          element.innerHTML = '';\n",
              "          dataTable['output_type'] = 'display_data';\n",
              "          await google.colab.output.renderOutput(dataTable, element);\n",
              "          const docLink = document.createElement('div');\n",
              "          docLink.innerHTML = docLinkHtml;\n",
              "          element.appendChild(docLink);\n",
              "        }\n",
              "      </script>\n",
              "    </div>\n",
              "  </div>\n",
              "  "
            ]
          },
          "metadata": {},
          "execution_count": 5
        }
      ]
    },
    {
      "cell_type": "code",
      "source": [
        "cardio_data.info()"
      ],
      "metadata": {
        "colab": {
          "base_uri": "https://localhost:8080/"
        },
        "id": "ABakt45tMsRp",
        "outputId": "dbc58ca5-f78a-4102-f0bf-d709e580ce71"
      },
      "execution_count": null,
      "outputs": [
        {
          "output_type": "stream",
          "name": "stdout",
          "text": [
            "<class 'pandas.core.frame.DataFrame'>\n",
            "RangeIndex: 2126 entries, 0 to 2125\n",
            "Data columns (total 15 columns):\n",
            " #   Column  Non-Null Count  Dtype  \n",
            "---  ------  --------------  -----  \n",
            " 0   BPM     2126 non-null   int64  \n",
            " 1   APC     2126 non-null   float64\n",
            " 2   FMPS    2126 non-null   float64\n",
            " 3   UCPS    2126 non-null   float64\n",
            " 4   DLPS    2126 non-null   float64\n",
            " 5   SDPS    2126 non-null   float64\n",
            " 6   PDPS    2126 non-null   float64\n",
            " 7   ASTV    2126 non-null   int64  \n",
            " 8   MSTV    2126 non-null   float64\n",
            " 9   ALTV    2126 non-null   int64  \n",
            " 10  MLTV    2126 non-null   float64\n",
            " 11  Width   2126 non-null   int64  \n",
            " 12  Min     2126 non-null   int64  \n",
            " 13  Max     2126 non-null   int64  \n",
            " 14  NSP     2126 non-null   int64  \n",
            "dtypes: float64(8), int64(7)\n",
            "memory usage: 249.3 KB\n"
          ]
        }
      ]
    },
    {
      "cell_type": "code",
      "source": [
        "cardio_data.shape"
      ],
      "metadata": {
        "colab": {
          "base_uri": "https://localhost:8080/"
        },
        "id": "zFQEN_iPMxeI",
        "outputId": "ca2bba73-d696-4fa7-d63a-7bdd61a1011e"
      },
      "execution_count": null,
      "outputs": [
        {
          "output_type": "execute_result",
          "data": {
            "text/plain": [
              "(2126, 15)"
            ]
          },
          "metadata": {},
          "execution_count": 7
        }
      ]
    },
    {
      "cell_type": "code",
      "source": [
        "cardio_data['NSP'].value_counts()"
      ],
      "metadata": {
        "colab": {
          "base_uri": "https://localhost:8080/"
        },
        "id": "pAKKYXgyM4ff",
        "outputId": "61de6d00-a643-495b-cbb9-c35b1f782adf"
      },
      "execution_count": null,
      "outputs": [
        {
          "output_type": "execute_result",
          "data": {
            "text/plain": [
              "1    1655\n",
              "2     295\n",
              "3     176\n",
              "Name: NSP, dtype: int64"
            ]
          },
          "metadata": {},
          "execution_count": 8
        }
      ]
    },
    {
      "cell_type": "code",
      "source": [
        "sns.countplot(cardio_data['NSP'])"
      ],
      "metadata": {
        "colab": {
          "base_uri": "https://localhost:8080/",
          "height": 351
        },
        "id": "bMjgzzMKNDsO",
        "outputId": "6f68754b-13e7-445d-82b4-aafca05f1d54"
      },
      "execution_count": null,
      "outputs": [
        {
          "output_type": "stream",
          "name": "stderr",
          "text": [
            "/usr/local/lib/python3.7/dist-packages/seaborn/_decorators.py:43: FutureWarning: Pass the following variable as a keyword arg: x. From version 0.12, the only valid positional argument will be `data`, and passing other arguments without an explicit keyword will result in an error or misinterpretation.\n",
            "  FutureWarning\n"
          ]
        },
        {
          "output_type": "execute_result",
          "data": {
            "text/plain": [
              "<matplotlib.axes._subplots.AxesSubplot at 0x7f2186a61550>"
            ]
          },
          "metadata": {},
          "execution_count": 9
        },
        {
          "output_type": "display_data",
          "data": {
            "text/plain": [
              "<Figure size 432x288 with 1 Axes>"
            ],
            "image/png": "[encoded data removed]"
          },
          "metadata": {
            "needs_background": "light"
          }
        }
      ]
    },
    {
      "cell_type": "code",
      "source": [
        "X = cardio_data.drop('NSP',axis=1)\n",
        "y = cardio_data['NSP'] -1\n",
        "\n",
        "X_train, X_test, y_train, y_test = train_test_split(X, y, test_size = 0.2, stratify=y, random_state=99)\n",
        "\n",
        "scaler = StandardScaler()\n",
        "X_train = scaler.fit_transform(X_train)\n",
        "X_test = scaler.transform(X_test)"
      ],
      "metadata": {
        "id": "lHH2GYugNoKL"
      },
      "execution_count": null,
      "outputs": []
    },
    {
      "cell_type": "code",
      "source": [
        "model = tf.keras.models.Sequential()\n",
        "model.add(tf.keras.layers.Dense(8,activation='relu',input_shape=(14,)))\n",
        "model.add(tf.keras.layers.Dense(3, activation='softmax'))"
      ],
      "metadata": {
        "id": "hKWmz20MOHPm"
      },
      "execution_count": null,
      "outputs": []
    },
    {
      "cell_type": "code",
      "source": [
        "model.compile(optimizer='adam', loss='sparse_categorical_crossentropy', metrics='accuracy')"
      ],
      "metadata": {
        "id": "pg8xW5MMPJNH"
      },
      "execution_count": null,
      "outputs": []
    },
    {
      "cell_type": "code",
      "source": [
        "model.summary()"
      ],
      "metadata": {
        "colab": {
          "base_uri": "https://localhost:8080/"
        },
        "id": "Il4mIWPAPaQl",
        "outputId": "4201218e-a399-4628-d511-7ba0a8824c75"
      },
      "execution_count": null,
      "outputs": [
        {
          "output_type": "stream",
          "name": "stdout",
          "text": [
            "Model: \"sequential_1\"\n",
            "_________________________________________________________________\n",
            " Layer (type)                Output Shape              Param #   \n",
            "=================================================================\n",
            " dense (Dense)               (None, 8)                 120       \n",
            "                                                                 \n",
            " dense_1 (Dense)             (None, 3)                 27        \n",
            "                                                                 \n",
            "=================================================================\n",
            "Total params: 147\n",
            "Trainable params: 147\n",
            "Non-trainable params: 0\n",
            "_________________________________________________________________\n"
          ]
        }
      ]
    },
    {
      "cell_type": "code",
      "source": [
        "class_weights = {0:1, 1:6, 2:7}\n",
        "\n",
        "history = model.fit(X_train, y_train, batch_size = 8, epochs=100, verbose=2, class_weight=class_weights, validation_split=0.2)"
      ],
      "metadata": {
        "colab": {
          "base_uri": "https://localhost:8080/"
        },
        "id": "EblGSCLyP0_b",
        "outputId": "7679f6d7-fa33-4a3f-d636-dbda8e525b83"
      },
      "execution_count": null,
      "outputs": [
        {
          "output_type": "stream",
          "name": "stdout",
          "text": [
            "Epoch 1/50\n",
            "170/170 - 3s - loss: 2.1738 - accuracy: 0.6176 - val_loss: 0.8016 - val_accuracy: 0.6794 - 3s/epoch - 17ms/step\n",
            "Epoch 2/50\n",
            "170/170 - 0s - loss: 1.7261 - accuracy: 0.7059 - val_loss: 0.6386 - val_accuracy: 0.7500 - 386ms/epoch - 2ms/step\n",
            "Epoch 3/50\n",
            "170/170 - 0s - loss: 1.5167 - accuracy: 0.7390 - val_loss: 0.5474 - val_accuracy: 0.7882 - 389ms/epoch - 2ms/step\n",
            "Epoch 4/50\n",
            "170/170 - 0s - loss: 1.3763 - accuracy: 0.7699 - val_loss: 0.4823 - val_accuracy: 0.8088 - 466ms/epoch - 3ms/step\n",
            "Epoch 5/50\n",
            "170/170 - 0s - loss: 1.2578 - accuracy: 0.7816 - val_loss: 0.4399 - val_accuracy: 0.8176 - 396ms/epoch - 2ms/step\n",
            "Epoch 6/50\n",
            "170/170 - 0s - loss: 1.1623 - accuracy: 0.7919 - val_loss: 0.4084 - val_accuracy: 0.8353 - 459ms/epoch - 3ms/step\n",
            "Epoch 7/50\n",
            "170/170 - 0s - loss: 1.0934 - accuracy: 0.8029 - val_loss: 0.3908 - val_accuracy: 0.8294 - 462ms/epoch - 3ms/step\n",
            "Epoch 8/50\n",
            "170/170 - 0s - loss: 1.0469 - accuracy: 0.8044 - val_loss: 0.3741 - val_accuracy: 0.8353 - 386ms/epoch - 2ms/step\n",
            "Epoch 9/50\n",
            "170/170 - 0s - loss: 1.0056 - accuracy: 0.8140 - val_loss: 0.3694 - val_accuracy: 0.8412 - 476ms/epoch - 3ms/step\n",
            "Epoch 10/50\n",
            "170/170 - 0s - loss: 0.9774 - accuracy: 0.8147 - val_loss: 0.3651 - val_accuracy: 0.8412 - 397ms/epoch - 2ms/step\n",
            "Epoch 11/50\n",
            "170/170 - 0s - loss: 0.9522 - accuracy: 0.8265 - val_loss: 0.3642 - val_accuracy: 0.8500 - 462ms/epoch - 3ms/step\n",
            "Epoch 12/50\n",
            "170/170 - 0s - loss: 0.9346 - accuracy: 0.8221 - val_loss: 0.3573 - val_accuracy: 0.8471 - 455ms/epoch - 3ms/step\n",
            "Epoch 13/50\n",
            "170/170 - 0s - loss: 0.9175 - accuracy: 0.8257 - val_loss: 0.3559 - val_accuracy: 0.8471 - 396ms/epoch - 2ms/step\n",
            "Epoch 14/50\n",
            "170/170 - 0s - loss: 0.9044 - accuracy: 0.8265 - val_loss: 0.3482 - val_accuracy: 0.8500 - 398ms/epoch - 2ms/step\n",
            "Epoch 15/50\n",
            "170/170 - 0s - loss: 0.8936 - accuracy: 0.8309 - val_loss: 0.3480 - val_accuracy: 0.8471 - 457ms/epoch - 3ms/step\n",
            "Epoch 16/50\n",
            "170/170 - 0s - loss: 0.8881 - accuracy: 0.8287 - val_loss: 0.3425 - val_accuracy: 0.8529 - 390ms/epoch - 2ms/step\n",
            "Epoch 17/50\n",
            "170/170 - 0s - loss: 0.8734 - accuracy: 0.8338 - val_loss: 0.3423 - val_accuracy: 0.8588 - 393ms/epoch - 2ms/step\n",
            "Epoch 18/50\n",
            "170/170 - 0s - loss: 0.8653 - accuracy: 0.8272 - val_loss: 0.3370 - val_accuracy: 0.8618 - 464ms/epoch - 3ms/step\n",
            "Epoch 19/50\n",
            "170/170 - 0s - loss: 0.8565 - accuracy: 0.8338 - val_loss: 0.3325 - val_accuracy: 0.8647 - 457ms/epoch - 3ms/step\n",
            "Epoch 20/50\n",
            "170/170 - 0s - loss: 0.8475 - accuracy: 0.8338 - val_loss: 0.3287 - val_accuracy: 0.8676 - 446ms/epoch - 3ms/step\n",
            "Epoch 21/50\n",
            "170/170 - 0s - loss: 0.8425 - accuracy: 0.8338 - val_loss: 0.3338 - val_accuracy: 0.8647 - 407ms/epoch - 2ms/step\n",
            "Epoch 22/50\n",
            "170/170 - 0s - loss: 0.8347 - accuracy: 0.8309 - val_loss: 0.3259 - val_accuracy: 0.8618 - 387ms/epoch - 2ms/step\n",
            "Epoch 23/50\n",
            "170/170 - 0s - loss: 0.8307 - accuracy: 0.8375 - val_loss: 0.3259 - val_accuracy: 0.8588 - 463ms/epoch - 3ms/step\n",
            "Epoch 24/50\n",
            "170/170 - 0s - loss: 0.8275 - accuracy: 0.8382 - val_loss: 0.3258 - val_accuracy: 0.8676 - 386ms/epoch - 2ms/step\n",
            "Epoch 25/50\n",
            "170/170 - 0s - loss: 0.8248 - accuracy: 0.8397 - val_loss: 0.3221 - val_accuracy: 0.8676 - 375ms/epoch - 2ms/step\n",
            "Epoch 26/50\n",
            "170/170 - 0s - loss: 0.8077 - accuracy: 0.8404 - val_loss: 0.3227 - val_accuracy: 0.8500 - 460ms/epoch - 3ms/step\n",
            "Epoch 27/50\n",
            "170/170 - 0s - loss: 0.8067 - accuracy: 0.8434 - val_loss: 0.3216 - val_accuracy: 0.8706 - 380ms/epoch - 2ms/step\n",
            "Epoch 28/50\n",
            "170/170 - 0s - loss: 0.8029 - accuracy: 0.8441 - val_loss: 0.3200 - val_accuracy: 0.8706 - 475ms/epoch - 3ms/step\n",
            "Epoch 29/50\n",
            "170/170 - 0s - loss: 0.7958 - accuracy: 0.8404 - val_loss: 0.3179 - val_accuracy: 0.8647 - 392ms/epoch - 2ms/step\n",
            "Epoch 30/50\n",
            "170/170 - 0s - loss: 0.7914 - accuracy: 0.8471 - val_loss: 0.3177 - val_accuracy: 0.8706 - 470ms/epoch - 3ms/step\n",
            "Epoch 31/50\n",
            "170/170 - 0s - loss: 0.7846 - accuracy: 0.8463 - val_loss: 0.3104 - val_accuracy: 0.8618 - 406ms/epoch - 2ms/step\n",
            "Epoch 32/50\n",
            "170/170 - 0s - loss: 0.7758 - accuracy: 0.8478 - val_loss: 0.3127 - val_accuracy: 0.8647 - 456ms/epoch - 3ms/step\n",
            "Epoch 33/50\n",
            "170/170 - 0s - loss: 0.7820 - accuracy: 0.8485 - val_loss: 0.3066 - val_accuracy: 0.8706 - 400ms/epoch - 2ms/step\n",
            "Epoch 34/50\n",
            "170/170 - 0s - loss: 0.7709 - accuracy: 0.8507 - val_loss: 0.3085 - val_accuracy: 0.8676 - 385ms/epoch - 2ms/step\n",
            "Epoch 35/50\n",
            "170/170 - 0s - loss: 0.7656 - accuracy: 0.8515 - val_loss: 0.3065 - val_accuracy: 0.8647 - 421ms/epoch - 2ms/step\n",
            "Epoch 36/50\n",
            "170/170 - 0s - loss: 0.7679 - accuracy: 0.8537 - val_loss: 0.3092 - val_accuracy: 0.8647 - 389ms/epoch - 2ms/step\n",
            "Epoch 37/50\n",
            "170/170 - 0s - loss: 0.7583 - accuracy: 0.8500 - val_loss: 0.3066 - val_accuracy: 0.8618 - 389ms/epoch - 2ms/step\n",
            "Epoch 38/50\n",
            "170/170 - 0s - loss: 0.7505 - accuracy: 0.8529 - val_loss: 0.3036 - val_accuracy: 0.8647 - 470ms/epoch - 3ms/step\n",
            "Epoch 39/50\n",
            "170/170 - 0s - loss: 0.7457 - accuracy: 0.8537 - val_loss: 0.3044 - val_accuracy: 0.8647 - 463ms/epoch - 3ms/step\n",
            "Epoch 40/50\n",
            "170/170 - 0s - loss: 0.7432 - accuracy: 0.8551 - val_loss: 0.3050 - val_accuracy: 0.8618 - 407ms/epoch - 2ms/step\n",
            "Epoch 41/50\n",
            "170/170 - 0s - loss: 0.7407 - accuracy: 0.8566 - val_loss: 0.3016 - val_accuracy: 0.8706 - 431ms/epoch - 3ms/step\n",
            "Epoch 42/50\n",
            "170/170 - 0s - loss: 0.7352 - accuracy: 0.8566 - val_loss: 0.3022 - val_accuracy: 0.8588 - 404ms/epoch - 2ms/step\n",
            "Epoch 43/50\n",
            "170/170 - 0s - loss: 0.7347 - accuracy: 0.8581 - val_loss: 0.3011 - val_accuracy: 0.8647 - 453ms/epoch - 3ms/step\n",
            "Epoch 44/50\n",
            "170/170 - 0s - loss: 0.7286 - accuracy: 0.8537 - val_loss: 0.2952 - val_accuracy: 0.8706 - 467ms/epoch - 3ms/step\n",
            "Epoch 45/50\n",
            "170/170 - 0s - loss: 0.7222 - accuracy: 0.8574 - val_loss: 0.2948 - val_accuracy: 0.8735 - 482ms/epoch - 3ms/step\n",
            "Epoch 46/50\n",
            "170/170 - 0s - loss: 0.7196 - accuracy: 0.8588 - val_loss: 0.2952 - val_accuracy: 0.8647 - 468ms/epoch - 3ms/step\n",
            "Epoch 47/50\n",
            "170/170 - 0s - loss: 0.7157 - accuracy: 0.8551 - val_loss: 0.2972 - val_accuracy: 0.8647 - 466ms/epoch - 3ms/step\n",
            "Epoch 48/50\n",
            "170/170 - 0s - loss: 0.7150 - accuracy: 0.8603 - val_loss: 0.2954 - val_accuracy: 0.8647 - 392ms/epoch - 2ms/step\n",
            "Epoch 49/50\n",
            "170/170 - 0s - loss: 0.7094 - accuracy: 0.8610 - val_loss: 0.2935 - val_accuracy: 0.8676 - 405ms/epoch - 2ms/step\n",
            "Epoch 50/50\n",
            "170/170 - 0s - loss: 0.7061 - accuracy: 0.8603 - val_loss: 0.2951 - val_accuracy: 0.8765 - 455ms/epoch - 3ms/step\n"
          ]
        }
      ]
    },
    {
      "cell_type": "code",
      "source": [
        "accuracy = history.history['accuracy']\n",
        "validation_accuracy = history.history['val_accuracy']\n",
        "\n",
        "plt.plot(accuracy, label='Training Set Accuracy')\n",
        "plt.plot(validation_accuracy, label='Validation Set Accuracy')\n",
        "plt.ylabel('Accuracy')\n",
        "plt.ylim([min(plt.ylim()),1])\n",
        "plt.title('Training and Validation Accuracy Across Epochs')\n",
        "plt.legend()"
      ],
      "metadata": {
        "colab": {
          "base_uri": "https://localhost:8080/",
          "height": 298
        },
        "id": "J35e1_QGRoFJ",
        "outputId": "41c02878-788d-4077-8703-5a763e6e5d5f"
      },
      "execution_count": null,
      "outputs": [
        {
          "output_type": "execute_result",
          "data": {
            "text/plain": [
              "<matplotlib.legend.Legend at 0x7f2185d7dc10>"
            ]
          },
          "metadata": {},
          "execution_count": 16
        },
        {
          "output_type": "display_data",
          "data": {
            "text/plain": [
              "<Figure size 432x288 with 1 Axes>"
            ],
            "image/png": "[encoded data removed]"
          },
          "metadata": {
            "needs_background": "light"
          }
        }
      ]
    },
    {
      "cell_type": "code",
      "source": [
        "loss = history.history['loss']\n",
        "validation_loss = history.history['val_loss']\n",
        "\n",
        "plt.plot(loss, label='Training Set Loss')\n",
        "plt.plot(validation_loss, label='Validation Set Loss')\n",
        "plt.ylabel('Loss')\n",
        "plt.title('Training and Validation Accuracy Across Epochs')\n",
        "plt.legend()"
      ],
      "metadata": {
        "colab": {
          "base_uri": "https://localhost:8080/",
          "height": 298
        },
        "id": "QWxeQf4yS_r5",
        "outputId": "0801cfed-80e2-416a-b351-3089f1335782"
      },
      "execution_count": null,
      "outputs": [
        {
          "output_type": "execute_result",
          "data": {
            "text/plain": [
              "<matplotlib.legend.Legend at 0x7f210a194e10>"
            ]
          },
          "metadata": {},
          "execution_count": 17
        },
        {
          "output_type": "display_data",
          "data": {
            "text/plain": [
              "<Figure size 432x288 with 1 Axes>"
            ],
            "image/png": "[encoded data removed]"
          },
          "metadata": {
            "needs_background": "light"
          }
        }
      ]
    },
    {
      "cell_type": "code",
      "source": [
        "from sklearn.metrics import confusion_matrix, classification_report"
      ],
      "metadata": {
        "id": "OVPbDz0DTCpe"
      },
      "execution_count": null,
      "outputs": []
    },
    {
      "cell_type": "code",
      "source": [
        "y_pred = model.predict(X_test)\n",
        "y_pred = y_pred.argmax(axis=1)"
      ],
      "metadata": {
        "colab": {
          "base_uri": "https://localhost:8080/"
        },
        "id": "kxnXdS4NTLqu",
        "outputId": "ebdc8a47-9327-4bd4-9fda-70ec3a90a507"
      },
      "execution_count": null,
      "outputs": [
        {
          "output_type": "stream",
          "name": "stdout",
          "text": [
            "14/14 [==============================] - 0s 2ms/step\n"
          ]
        }
      ]
    },
    {
      "cell_type": "code",
      "source": [
        "confusion_matrix = confusion_matrix(y_test,y_pred)\n",
        "\n",
        "ax = sns.heatmap(confusion_matrix, cmap='flare',annot=True, fmt='d')\n",
        "\n",
        "plt.xlabel(\"Predicted Class\",fontsize=12)\n",
        "plt.ylabel(\"True Class\",fontsize=12)\n",
        "plt.title(\"Confusion Matrix\",fontsize=12)\n",
        "\n",
        "plt.show()"
      ],
      "metadata": {
        "colab": {
          "base_uri": "https://localhost:8080/",
          "height": 298
        },
        "id": "rQwWemptTTF2",
        "outputId": "112bc3b6-4862-4e41-b90c-f979a90e2e66"
      },
      "execution_count": null,
      "outputs": [
        {
          "output_type": "display_data",
          "data": {
            "text/plain": [
              "<Figure size 432x288 with 2 Axes>"
            ],
            "image/png": "[encoded data removed]"
          },
          "metadata": {
            "needs_background": "light"
          }
        }
      ]
    },
    {
      "cell_type": "code",
      "source": [
        "print(classification_report(y_test,y_pred))"
      ],
      "metadata": {
        "colab": {
          "base_uri": "https://localhost:8080/"
        },
        "id": "aR3BnxA2TaLV",
        "outputId": "598b26ea-b0e3-4b31-a116-a5206f56c0c4"
      },
      "execution_count": null,
      "outputs": [
        {
          "output_type": "stream",
          "name": "stdout",
          "text": [
            "              precision    recall  f1-score   support\n",
            "\n",
            "           0       0.99      0.83      0.90       332\n",
            "           1       0.49      0.90      0.63        59\n",
            "           2       0.62      0.71      0.67        35\n",
            "\n",
            "    accuracy                           0.83       426\n",
            "   macro avg       0.70      0.81      0.73       426\n",
            "weighted avg       0.89      0.83      0.84       426\n",
            "\n"
          ]
        }
      ]
    },
    {
      "cell_type": "code",
      "source": [],
      "metadata": {
        "id": "mUFi0zC1TbHk"
      },
      "execution_count": null,
      "outputs": []
    }
  ]
}