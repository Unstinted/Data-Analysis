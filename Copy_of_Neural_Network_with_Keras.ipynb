{
 "cells": [
  {
   "cell_type": "code",
   "execution_count": 1,
   "metadata": {
    "id": "QwoAQLjmX541"
   },
   "outputs": [],
   "source": [
    "import numpy as np \n",
    "import pandas as pd \n",
    "import matplotlib.pyplot as plt \n",
    "import tensorflow as tf \n",
    "import seaborn as sns \n",
    "from sklearn.preprocessing import StandardScaler \n",
    "from sklearn.model_selection import train_test_split"
   ]
  },
  {
   "cell_type": "code",
   "execution_count": 2,
   "metadata": {
    "id": "ASTSm17caD7k"
   },
   "outputs": [],
   "source": [
    "cardio_data = pd.read_csv('Cardiotocographic.csv')"
   ]
  },
  {
   "cell_type": "code",
   "execution_count": 3,
   "metadata": {
    "colab": {
     "base_uri": "https://localhost:8080/",
     "height": 250
    },
    "id": "oV4iSsZXa0ul",
    "outputId": "cdccad22-87c8-4781-b71c-7014a9b94c09"
   },
   "outputs": [
    {
     "data": {
      "text/html": [
       "<div>\n",
       "<style scoped>\n",
       "    .dataframe tbody tr th:only-of-type {\n",
       "        vertical-align: middle;\n",
       "    }\n",
       "\n",
       "    .dataframe tbody tr th {\n",
       "        vertical-align: top;\n",
       "    }\n",
       "\n",
       "    .dataframe thead th {\n",
       "        text-align: right;\n",
       "    }\n",
       "</style>\n",
       "<table border=\"1\" class=\"dataframe\">\n",
       "  <thead>\n",
       "    <tr style=\"text-align: right;\">\n",
       "      <th></th>\n",
       "      <th>BPM</th>\n",
       "      <th>APC</th>\n",
       "      <th>FMPS</th>\n",
       "      <th>UCPS</th>\n",
       "      <th>DLPS</th>\n",
       "      <th>SDPS</th>\n",
       "      <th>PDPS</th>\n",
       "      <th>ASTV</th>\n",
       "      <th>MSTV</th>\n",
       "      <th>ALTV</th>\n",
       "      <th>MLTV</th>\n",
       "      <th>Width</th>\n",
       "      <th>Min</th>\n",
       "      <th>Max</th>\n",
       "      <th>NSP</th>\n",
       "    </tr>\n",
       "  </thead>\n",
       "  <tbody>\n",
       "    <tr>\n",
       "      <th>0</th>\n",
       "      <td>120</td>\n",
       "      <td>0.000000</td>\n",
       "      <td>0.0</td>\n",
       "      <td>0.000000</td>\n",
       "      <td>0.000000</td>\n",
       "      <td>0.0</td>\n",
       "      <td>0.0</td>\n",
       "      <td>73</td>\n",
       "      <td>0.5</td>\n",
       "      <td>43</td>\n",
       "      <td>2.4</td>\n",
       "      <td>64</td>\n",
       "      <td>62</td>\n",
       "      <td>126</td>\n",
       "      <td>2</td>\n",
       "    </tr>\n",
       "    <tr>\n",
       "      <th>1</th>\n",
       "      <td>132</td>\n",
       "      <td>0.006380</td>\n",
       "      <td>0.0</td>\n",
       "      <td>0.006380</td>\n",
       "      <td>0.003190</td>\n",
       "      <td>0.0</td>\n",
       "      <td>0.0</td>\n",
       "      <td>17</td>\n",
       "      <td>2.1</td>\n",
       "      <td>0</td>\n",
       "      <td>10.4</td>\n",
       "      <td>130</td>\n",
       "      <td>68</td>\n",
       "      <td>198</td>\n",
       "      <td>1</td>\n",
       "    </tr>\n",
       "    <tr>\n",
       "      <th>2</th>\n",
       "      <td>133</td>\n",
       "      <td>0.003322</td>\n",
       "      <td>0.0</td>\n",
       "      <td>0.008306</td>\n",
       "      <td>0.003322</td>\n",
       "      <td>0.0</td>\n",
       "      <td>0.0</td>\n",
       "      <td>16</td>\n",
       "      <td>2.1</td>\n",
       "      <td>0</td>\n",
       "      <td>13.4</td>\n",
       "      <td>130</td>\n",
       "      <td>68</td>\n",
       "      <td>198</td>\n",
       "      <td>1</td>\n",
       "    </tr>\n",
       "    <tr>\n",
       "      <th>3</th>\n",
       "      <td>134</td>\n",
       "      <td>0.002561</td>\n",
       "      <td>0.0</td>\n",
       "      <td>0.007682</td>\n",
       "      <td>0.002561</td>\n",
       "      <td>0.0</td>\n",
       "      <td>0.0</td>\n",
       "      <td>16</td>\n",
       "      <td>2.4</td>\n",
       "      <td>0</td>\n",
       "      <td>23.0</td>\n",
       "      <td>117</td>\n",
       "      <td>53</td>\n",
       "      <td>170</td>\n",
       "      <td>1</td>\n",
       "    </tr>\n",
       "    <tr>\n",
       "      <th>4</th>\n",
       "      <td>132</td>\n",
       "      <td>0.006515</td>\n",
       "      <td>0.0</td>\n",
       "      <td>0.008143</td>\n",
       "      <td>0.000000</td>\n",
       "      <td>0.0</td>\n",
       "      <td>0.0</td>\n",
       "      <td>16</td>\n",
       "      <td>2.4</td>\n",
       "      <td>0</td>\n",
       "      <td>19.9</td>\n",
       "      <td>117</td>\n",
       "      <td>53</td>\n",
       "      <td>170</td>\n",
       "      <td>1</td>\n",
       "    </tr>\n",
       "  </tbody>\n",
       "</table>\n",
       "</div>"
      ],
      "text/plain": [
       "   BPM       APC  FMPS      UCPS      DLPS  SDPS  PDPS  ASTV  MSTV  ALTV  \\\n",
       "0  120  0.000000   0.0  0.000000  0.000000   0.0   0.0    73   0.5    43   \n",
       "1  132  0.006380   0.0  0.006380  0.003190   0.0   0.0    17   2.1     0   \n",
       "2  133  0.003322   0.0  0.008306  0.003322   0.0   0.0    16   2.1     0   \n",
       "3  134  0.002561   0.0  0.007682  0.002561   0.0   0.0    16   2.4     0   \n",
       "4  132  0.006515   0.0  0.008143  0.000000   0.0   0.0    16   2.4     0   \n",
       "\n",
       "   MLTV  Width  Min  Max  NSP  \n",
       "0   2.4     64   62  126    2  \n",
       "1  10.4    130   68  198    1  \n",
       "2  13.4    130   68  198    1  \n",
       "3  23.0    117   53  170    1  \n",
       "4  19.9    117   53  170    1  "
      ]
     },
     "execution_count": 3,
     "metadata": {},
     "output_type": "execute_result"
    }
   ],
   "source": [
    "cardio_data.head()"
   ]
  },
  {
   "cell_type": "code",
   "execution_count": 4,
   "metadata": {
    "colab": {
     "base_uri": "https://localhost:8080/",
     "height": 250
    },
    "id": "3lqxewGPa4xU",
    "outputId": "50f472d1-45dd-44b0-e05d-1313bcb6d157"
   },
   "outputs": [
    {
     "data": {
      "text/html": [
       "<div>\n",
       "<style scoped>\n",
       "    .dataframe tbody tr th:only-of-type {\n",
       "        vertical-align: middle;\n",
       "    }\n",
       "\n",
       "    .dataframe tbody tr th {\n",
       "        vertical-align: top;\n",
       "    }\n",
       "\n",
       "    .dataframe thead th {\n",
       "        text-align: right;\n",
       "    }\n",
       "</style>\n",
       "<table border=\"1\" class=\"dataframe\">\n",
       "  <thead>\n",
       "    <tr style=\"text-align: right;\">\n",
       "      <th></th>\n",
       "      <th>BPM</th>\n",
       "      <th>APC</th>\n",
       "      <th>FMPS</th>\n",
       "      <th>UCPS</th>\n",
       "      <th>DLPS</th>\n",
       "      <th>SDPS</th>\n",
       "      <th>PDPS</th>\n",
       "      <th>ASTV</th>\n",
       "      <th>MSTV</th>\n",
       "      <th>ALTV</th>\n",
       "      <th>MLTV</th>\n",
       "      <th>Width</th>\n",
       "      <th>Min</th>\n",
       "      <th>Max</th>\n",
       "      <th>NSP</th>\n",
       "    </tr>\n",
       "  </thead>\n",
       "  <tbody>\n",
       "    <tr>\n",
       "      <th>2121</th>\n",
       "      <td>140</td>\n",
       "      <td>0.000000</td>\n",
       "      <td>0.000000</td>\n",
       "      <td>0.007426</td>\n",
       "      <td>0.0</td>\n",
       "      <td>0.0</td>\n",
       "      <td>0.0</td>\n",
       "      <td>79</td>\n",
       "      <td>0.2</td>\n",
       "      <td>25</td>\n",
       "      <td>7.2</td>\n",
       "      <td>40</td>\n",
       "      <td>137</td>\n",
       "      <td>177</td>\n",
       "      <td>2</td>\n",
       "    </tr>\n",
       "    <tr>\n",
       "      <th>2122</th>\n",
       "      <td>140</td>\n",
       "      <td>0.000775</td>\n",
       "      <td>0.000000</td>\n",
       "      <td>0.006971</td>\n",
       "      <td>0.0</td>\n",
       "      <td>0.0</td>\n",
       "      <td>0.0</td>\n",
       "      <td>78</td>\n",
       "      <td>0.4</td>\n",
       "      <td>22</td>\n",
       "      <td>7.1</td>\n",
       "      <td>66</td>\n",
       "      <td>103</td>\n",
       "      <td>169</td>\n",
       "      <td>2</td>\n",
       "    </tr>\n",
       "    <tr>\n",
       "      <th>2123</th>\n",
       "      <td>140</td>\n",
       "      <td>0.000980</td>\n",
       "      <td>0.000000</td>\n",
       "      <td>0.006863</td>\n",
       "      <td>0.0</td>\n",
       "      <td>0.0</td>\n",
       "      <td>0.0</td>\n",
       "      <td>79</td>\n",
       "      <td>0.4</td>\n",
       "      <td>20</td>\n",
       "      <td>6.1</td>\n",
       "      <td>67</td>\n",
       "      <td>103</td>\n",
       "      <td>170</td>\n",
       "      <td>2</td>\n",
       "    </tr>\n",
       "    <tr>\n",
       "      <th>2124</th>\n",
       "      <td>140</td>\n",
       "      <td>0.000679</td>\n",
       "      <td>0.000000</td>\n",
       "      <td>0.006110</td>\n",
       "      <td>0.0</td>\n",
       "      <td>0.0</td>\n",
       "      <td>0.0</td>\n",
       "      <td>78</td>\n",
       "      <td>0.4</td>\n",
       "      <td>27</td>\n",
       "      <td>7.0</td>\n",
       "      <td>66</td>\n",
       "      <td>103</td>\n",
       "      <td>169</td>\n",
       "      <td>2</td>\n",
       "    </tr>\n",
       "    <tr>\n",
       "      <th>2125</th>\n",
       "      <td>142</td>\n",
       "      <td>0.001616</td>\n",
       "      <td>0.001616</td>\n",
       "      <td>0.008078</td>\n",
       "      <td>0.0</td>\n",
       "      <td>0.0</td>\n",
       "      <td>0.0</td>\n",
       "      <td>74</td>\n",
       "      <td>0.4</td>\n",
       "      <td>36</td>\n",
       "      <td>5.0</td>\n",
       "      <td>42</td>\n",
       "      <td>117</td>\n",
       "      <td>159</td>\n",
       "      <td>1</td>\n",
       "    </tr>\n",
       "  </tbody>\n",
       "</table>\n",
       "</div>"
      ],
      "text/plain": [
       "      BPM       APC      FMPS      UCPS  DLPS  SDPS  PDPS  ASTV  MSTV  ALTV  \\\n",
       "2121  140  0.000000  0.000000  0.007426   0.0   0.0   0.0    79   0.2    25   \n",
       "2122  140  0.000775  0.000000  0.006971   0.0   0.0   0.0    78   0.4    22   \n",
       "2123  140  0.000980  0.000000  0.006863   0.0   0.0   0.0    79   0.4    20   \n",
       "2124  140  0.000679  0.000000  0.006110   0.0   0.0   0.0    78   0.4    27   \n",
       "2125  142  0.001616  0.001616  0.008078   0.0   0.0   0.0    74   0.4    36   \n",
       "\n",
       "      MLTV  Width  Min  Max  NSP  \n",
       "2121   7.2     40  137  177    2  \n",
       "2122   7.1     66  103  169    2  \n",
       "2123   6.1     67  103  170    2  \n",
       "2124   7.0     66  103  169    2  \n",
       "2125   5.0     42  117  159    1  "
      ]
     },
     "execution_count": 4,
     "metadata": {},
     "output_type": "execute_result"
    }
   ],
   "source": [
    "cardio_data.tail()"
   ]
  },
  {
   "cell_type": "code",
   "execution_count": 5,
   "metadata": {
    "colab": {
     "base_uri": "https://localhost:8080/",
     "height": 364
    },
    "id": "7ksEDP8La8wE",
    "outputId": "f2f978f1-15fb-4b9c-c3b9-85e5e25096fc"
   },
   "outputs": [
    {
     "data": {
      "text/html": [
       "<div>\n",
       "<style scoped>\n",
       "    .dataframe tbody tr th:only-of-type {\n",
       "        vertical-align: middle;\n",
       "    }\n",
       "\n",
       "    .dataframe tbody tr th {\n",
       "        vertical-align: top;\n",
       "    }\n",
       "\n",
       "    .dataframe thead th {\n",
       "        text-align: right;\n",
       "    }\n",
       "</style>\n",
       "<table border=\"1\" class=\"dataframe\">\n",
       "  <thead>\n",
       "    <tr style=\"text-align: right;\">\n",
       "      <th></th>\n",
       "      <th>BPM</th>\n",
       "      <th>APC</th>\n",
       "      <th>FMPS</th>\n",
       "      <th>UCPS</th>\n",
       "      <th>DLPS</th>\n",
       "      <th>SDPS</th>\n",
       "      <th>PDPS</th>\n",
       "      <th>ASTV</th>\n",
       "      <th>MSTV</th>\n",
       "      <th>ALTV</th>\n",
       "      <th>MLTV</th>\n",
       "      <th>Width</th>\n",
       "      <th>Min</th>\n",
       "      <th>Max</th>\n",
       "      <th>NSP</th>\n",
       "    </tr>\n",
       "  </thead>\n",
       "  <tbody>\n",
       "    <tr>\n",
       "      <th>count</th>\n",
       "      <td>2126.000000</td>\n",
       "      <td>2126.000000</td>\n",
       "      <td>2126.000000</td>\n",
       "      <td>2126.000000</td>\n",
       "      <td>2126.000000</td>\n",
       "      <td>2126.000000</td>\n",
       "      <td>2126.000000</td>\n",
       "      <td>2126.000000</td>\n",
       "      <td>2126.000000</td>\n",
       "      <td>2126.00000</td>\n",
       "      <td>2126.000000</td>\n",
       "      <td>2126.000000</td>\n",
       "      <td>2126.000000</td>\n",
       "      <td>2126.000000</td>\n",
       "      <td>2126.000000</td>\n",
       "    </tr>\n",
       "    <tr>\n",
       "      <th>mean</th>\n",
       "      <td>133.303857</td>\n",
       "      <td>0.003170</td>\n",
       "      <td>0.009474</td>\n",
       "      <td>0.004357</td>\n",
       "      <td>0.001885</td>\n",
       "      <td>0.000004</td>\n",
       "      <td>0.000157</td>\n",
       "      <td>46.990122</td>\n",
       "      <td>1.332785</td>\n",
       "      <td>9.84666</td>\n",
       "      <td>8.187629</td>\n",
       "      <td>70.445908</td>\n",
       "      <td>93.579492</td>\n",
       "      <td>164.025400</td>\n",
       "      <td>1.304327</td>\n",
       "    </tr>\n",
       "    <tr>\n",
       "      <th>std</th>\n",
       "      <td>9.840844</td>\n",
       "      <td>0.003860</td>\n",
       "      <td>0.046670</td>\n",
       "      <td>0.002940</td>\n",
       "      <td>0.002962</td>\n",
       "      <td>0.000063</td>\n",
       "      <td>0.000580</td>\n",
       "      <td>17.192814</td>\n",
       "      <td>0.883241</td>\n",
       "      <td>18.39688</td>\n",
       "      <td>5.628247</td>\n",
       "      <td>38.955693</td>\n",
       "      <td>29.560212</td>\n",
       "      <td>17.944183</td>\n",
       "      <td>0.614377</td>\n",
       "    </tr>\n",
       "    <tr>\n",
       "      <th>min</th>\n",
       "      <td>106.000000</td>\n",
       "      <td>0.000000</td>\n",
       "      <td>0.000000</td>\n",
       "      <td>0.000000</td>\n",
       "      <td>0.000000</td>\n",
       "      <td>0.000000</td>\n",
       "      <td>0.000000</td>\n",
       "      <td>12.000000</td>\n",
       "      <td>0.200000</td>\n",
       "      <td>0.00000</td>\n",
       "      <td>0.000000</td>\n",
       "      <td>3.000000</td>\n",
       "      <td>50.000000</td>\n",
       "      <td>122.000000</td>\n",
       "      <td>1.000000</td>\n",
       "    </tr>\n",
       "    <tr>\n",
       "      <th>25%</th>\n",
       "      <td>126.000000</td>\n",
       "      <td>0.000000</td>\n",
       "      <td>0.000000</td>\n",
       "      <td>0.001876</td>\n",
       "      <td>0.000000</td>\n",
       "      <td>0.000000</td>\n",
       "      <td>0.000000</td>\n",
       "      <td>32.000000</td>\n",
       "      <td>0.700000</td>\n",
       "      <td>0.00000</td>\n",
       "      <td>4.600000</td>\n",
       "      <td>37.000000</td>\n",
       "      <td>67.000000</td>\n",
       "      <td>152.000000</td>\n",
       "      <td>1.000000</td>\n",
       "    </tr>\n",
       "    <tr>\n",
       "      <th>50%</th>\n",
       "      <td>133.000000</td>\n",
       "      <td>0.001630</td>\n",
       "      <td>0.000000</td>\n",
       "      <td>0.004482</td>\n",
       "      <td>0.000000</td>\n",
       "      <td>0.000000</td>\n",
       "      <td>0.000000</td>\n",
       "      <td>49.000000</td>\n",
       "      <td>1.200000</td>\n",
       "      <td>0.00000</td>\n",
       "      <td>7.400000</td>\n",
       "      <td>67.500000</td>\n",
       "      <td>93.000000</td>\n",
       "      <td>162.000000</td>\n",
       "      <td>1.000000</td>\n",
       "    </tr>\n",
       "    <tr>\n",
       "      <th>75%</th>\n",
       "      <td>140.000000</td>\n",
       "      <td>0.005631</td>\n",
       "      <td>0.002512</td>\n",
       "      <td>0.006525</td>\n",
       "      <td>0.003264</td>\n",
       "      <td>0.000000</td>\n",
       "      <td>0.000000</td>\n",
       "      <td>61.000000</td>\n",
       "      <td>1.700000</td>\n",
       "      <td>11.00000</td>\n",
       "      <td>10.800000</td>\n",
       "      <td>100.000000</td>\n",
       "      <td>120.000000</td>\n",
       "      <td>174.000000</td>\n",
       "      <td>1.000000</td>\n",
       "    </tr>\n",
       "    <tr>\n",
       "      <th>max</th>\n",
       "      <td>160.000000</td>\n",
       "      <td>0.019284</td>\n",
       "      <td>0.480634</td>\n",
       "      <td>0.014925</td>\n",
       "      <td>0.015385</td>\n",
       "      <td>0.001353</td>\n",
       "      <td>0.005348</td>\n",
       "      <td>87.000000</td>\n",
       "      <td>7.000000</td>\n",
       "      <td>91.00000</td>\n",
       "      <td>50.700000</td>\n",
       "      <td>180.000000</td>\n",
       "      <td>159.000000</td>\n",
       "      <td>238.000000</td>\n",
       "      <td>3.000000</td>\n",
       "    </tr>\n",
       "  </tbody>\n",
       "</table>\n",
       "</div>"
      ],
      "text/plain": [
       "               BPM          APC         FMPS         UCPS         DLPS  \\\n",
       "count  2126.000000  2126.000000  2126.000000  2126.000000  2126.000000   \n",
       "mean    133.303857     0.003170     0.009474     0.004357     0.001885   \n",
       "std       9.840844     0.003860     0.046670     0.002940     0.002962   \n",
       "min     106.000000     0.000000     0.000000     0.000000     0.000000   \n",
       "25%     126.000000     0.000000     0.000000     0.001876     0.000000   \n",
       "50%     133.000000     0.001630     0.000000     0.004482     0.000000   \n",
       "75%     140.000000     0.005631     0.002512     0.006525     0.003264   \n",
       "max     160.000000     0.019284     0.480634     0.014925     0.015385   \n",
       "\n",
       "              SDPS         PDPS         ASTV         MSTV        ALTV  \\\n",
       "count  2126.000000  2126.000000  2126.000000  2126.000000  2126.00000   \n",
       "mean      0.000004     0.000157    46.990122     1.332785     9.84666   \n",
       "std       0.000063     0.000580    17.192814     0.883241    18.39688   \n",
       "min       0.000000     0.000000    12.000000     0.200000     0.00000   \n",
       "25%       0.000000     0.000000    32.000000     0.700000     0.00000   \n",
       "50%       0.000000     0.000000    49.000000     1.200000     0.00000   \n",
       "75%       0.000000     0.000000    61.000000     1.700000    11.00000   \n",
       "max       0.001353     0.005348    87.000000     7.000000    91.00000   \n",
       "\n",
       "              MLTV        Width          Min          Max          NSP  \n",
       "count  2126.000000  2126.000000  2126.000000  2126.000000  2126.000000  \n",
       "mean      8.187629    70.445908    93.579492   164.025400     1.304327  \n",
       "std       5.628247    38.955693    29.560212    17.944183     0.614377  \n",
       "min       0.000000     3.000000    50.000000   122.000000     1.000000  \n",
       "25%       4.600000    37.000000    67.000000   152.000000     1.000000  \n",
       "50%       7.400000    67.500000    93.000000   162.000000     1.000000  \n",
       "75%      10.800000   100.000000   120.000000   174.000000     1.000000  \n",
       "max      50.700000   180.000000   159.000000   238.000000     3.000000  "
      ]
     },
     "execution_count": 5,
     "metadata": {},
     "output_type": "execute_result"
    }
   ],
   "source": [
    "cardio_data.describe()"
   ]
  },
  {
   "cell_type": "code",
   "execution_count": 6,
   "metadata": {
    "colab": {
     "base_uri": "https://localhost:8080/"
    },
    "id": "ZUDwkjRCbLSE",
    "outputId": "6a1cbcf3-1597-44cc-fefd-382ccbf0d66d"
   },
   "outputs": [
    {
     "name": "stdout",
     "output_type": "stream",
     "text": [
      "<class 'pandas.core.frame.DataFrame'>\n",
      "RangeIndex: 2126 entries, 0 to 2125\n",
      "Data columns (total 15 columns):\n",
      " #   Column  Non-Null Count  Dtype  \n",
      "---  ------  --------------  -----  \n",
      " 0   BPM     2126 non-null   int64  \n",
      " 1   APC     2126 non-null   float64\n",
      " 2   FMPS    2126 non-null   float64\n",
      " 3   UCPS    2126 non-null   float64\n",
      " 4   DLPS    2126 non-null   float64\n",
      " 5   SDPS    2126 non-null   float64\n",
      " 6   PDPS    2126 non-null   float64\n",
      " 7   ASTV    2126 non-null   int64  \n",
      " 8   MSTV    2126 non-null   float64\n",
      " 9   ALTV    2126 non-null   int64  \n",
      " 10  MLTV    2126 non-null   float64\n",
      " 11  Width   2126 non-null   int64  \n",
      " 12  Min     2126 non-null   int64  \n",
      " 13  Max     2126 non-null   int64  \n",
      " 14  NSP     2126 non-null   int64  \n",
      "dtypes: float64(8), int64(7)\n",
      "memory usage: 249.3 KB\n"
     ]
    }
   ],
   "source": [
    "cardio_data.info()"
   ]
  },
  {
   "cell_type": "code",
   "execution_count": 7,
   "metadata": {
    "colab": {
     "base_uri": "https://localhost:8080/"
    },
    "id": "VUU_rBTlbQUU",
    "outputId": "a1b94424-27e4-446a-9e7f-ab2432572a1d"
   },
   "outputs": [
    {
     "data": {
      "text/plain": [
       "(2126, 15)"
      ]
     },
     "execution_count": 7,
     "metadata": {},
     "output_type": "execute_result"
    }
   ],
   "source": [
    "cardio_data.shape"
   ]
  },
  {
   "cell_type": "code",
   "execution_count": 8,
   "metadata": {
    "colab": {
     "base_uri": "https://localhost:8080/"
    },
    "id": "QJxOsPEobVN7",
    "outputId": "d7fa2eaa-509d-4733-9ae2-23ed5974a188"
   },
   "outputs": [
    {
     "data": {
      "text/plain": [
       "1    1655\n",
       "2     295\n",
       "3     176\n",
       "Name: NSP, dtype: int64"
      ]
     },
     "execution_count": 8,
     "metadata": {},
     "output_type": "execute_result"
    }
   ],
   "source": [
    "cardio_data['NSP'].value_counts()"
   ]
  },
  {
   "cell_type": "code",
   "execution_count": 21,
   "metadata": {
    "colab": {
     "base_uri": "https://localhost:8080/",
     "height": 351
    },
    "id": "2EEDWuG6bc_r",
    "outputId": "a8972497-31aa-4607-cb16-68e05483df12"
   },
   "outputs": [
    {
     "data": {
      "text/plain": [
       "<AxesSubplot:ylabel='count'>"
      ]
     },
     "execution_count": 21,
     "metadata": {},
     "output_type": "execute_result"
    },
    {
     "data": {
      "image/png": "[encoded data removed]",
      "text/plain": [
       "<Figure size 640x480 with 1 Axes>"
      ]
     },
     "metadata": {},
     "output_type": "display_data"
    }
   ],
   "source": [
    "sns.countplot(cardio_data['NSP'])"
   ]
  },
  {
   "cell_type": "code",
   "execution_count": 10,
   "metadata": {
    "id": "k_7i4cwQbwpc"
   },
   "outputs": [],
   "source": [
    "X = cardio_data.drop('NSP',axis=1) \n",
    "y = cardio_data['NSP'] -1 \n",
    "\n",
    "X_train, X_test, y_train, y_test = train_test_split(X, y, test_size = 0.2, stratify=y, random_state=99) \n",
    "\n",
    "scaler = StandardScaler() \n",
    "X_train = scaler.fit_transform(X_train) \n",
    "X_test = scaler.transform(X_test)"
   ]
  },
  {
   "cell_type": "code",
   "execution_count": 11,
   "metadata": {
    "id": "GiU2-hNzb4rd"
   },
   "outputs": [],
   "source": [
    "model = tf.keras.models.Sequential()\n",
    "\n",
    "model.add(tf.keras.layers.Dense(8,activation='relu',input_shape=(14,)))\n",
    "model.add(tf.keras.layers.Dense(3,activation='softmax'))"
   ]
  },
  {
   "cell_type": "code",
   "execution_count": 12,
   "metadata": {
    "id": "xB5towPQcVid"
   },
   "outputs": [],
   "source": [
    "model.compile(optimizer='adam',\n",
    "              loss='sparse_categorical_crossentropy',\n",
    "              metrics='accuracy')\n"
   ]
  },
  {
   "cell_type": "code",
   "execution_count": 13,
   "metadata": {
    "colab": {
     "base_uri": "https://localhost:8080/"
    },
    "id": "WcL8pTy7dCU_",
    "outputId": "bf48068c-6fca-473f-a835-e73386c78b83"
   },
   "outputs": [
    {
     "name": "stdout",
     "output_type": "stream",
     "text": [
      "Model: \"sequential\"\n",
      "_________________________________________________________________\n",
      " Layer (type)                Output Shape              Param #   \n",
      "=================================================================\n",
      " dense (Dense)               (None, 8)                 120       \n",
      "                                                                 \n",
      " dense_1 (Dense)             (None, 3)                 27        \n",
      "                                                                 \n",
      "=================================================================\n",
      "Total params: 147\n",
      "Trainable params: 147\n",
      "Non-trainable params: 0\n",
      "_________________________________________________________________\n"
     ]
    }
   ],
   "source": [
    "model.summary()"
   ]
  },
  {
   "cell_type": "code",
   "execution_count": 14,
   "metadata": {
    "colab": {
     "base_uri": "https://localhost:8080/"
    },
    "id": "uC4SoQPVdF01",
    "outputId": "fa315a3e-57c0-4662-e9fc-f4a3b0e43e38"
   },
   "outputs": [
    {
     "name": "stdout",
     "output_type": "stream",
     "text": [
      "Epoch 1/50\n",
      "170/170 - 1s - loss: 2.3581 - accuracy: 0.3096 - val_loss: 1.0934 - val_accuracy: 0.5059 - 1s/epoch - 8ms/step\n",
      "Epoch 2/50\n",
      "170/170 - 0s - loss: 1.8725 - accuracy: 0.5603 - val_loss: 0.8860 - val_accuracy: 0.6706 - 413ms/epoch - 2ms/step\n",
      "Epoch 3/50\n",
      "170/170 - 0s - loss: 1.6173 - accuracy: 0.6868 - val_loss: 0.7431 - val_accuracy: 0.7500 - 447ms/epoch - 3ms/step\n",
      "Epoch 4/50\n",
      "170/170 - 0s - loss: 1.4356 - accuracy: 0.7559 - val_loss: 0.6416 - val_accuracy: 0.8088 - 385ms/epoch - 2ms/step\n",
      "Epoch 5/50\n",
      "170/170 - 0s - loss: 1.2928 - accuracy: 0.8066 - val_loss: 0.5652 - val_accuracy: 0.8265 - 417ms/epoch - 2ms/step\n",
      "Epoch 6/50\n",
      "170/170 - 0s - loss: 1.1879 - accuracy: 0.8206 - val_loss: 0.5039 - val_accuracy: 0.8353 - 466ms/epoch - 3ms/step\n",
      "Epoch 7/50\n",
      "170/170 - 0s - loss: 1.1112 - accuracy: 0.8294 - val_loss: 0.4685 - val_accuracy: 0.8500 - 371ms/epoch - 2ms/step\n",
      "Epoch 8/50\n",
      "170/170 - 0s - loss: 1.0567 - accuracy: 0.8324 - val_loss: 0.4383 - val_accuracy: 0.8588 - 395ms/epoch - 2ms/step\n",
      "Epoch 9/50\n",
      "170/170 - 0s - loss: 1.0135 - accuracy: 0.8404 - val_loss: 0.4175 - val_accuracy: 0.8559 - 416ms/epoch - 2ms/step\n",
      "Epoch 10/50\n",
      "170/170 - 0s - loss: 0.9807 - accuracy: 0.8412 - val_loss: 0.3975 - val_accuracy: 0.8529 - 385ms/epoch - 2ms/step\n",
      "Epoch 11/50\n",
      "170/170 - 0s - loss: 0.9539 - accuracy: 0.8441 - val_loss: 0.3785 - val_accuracy: 0.8647 - 462ms/epoch - 3ms/step\n",
      "Epoch 12/50\n",
      "170/170 - 0s - loss: 0.9322 - accuracy: 0.8581 - val_loss: 0.3730 - val_accuracy: 0.8794 - 470ms/epoch - 3ms/step\n",
      "Epoch 13/50\n",
      "170/170 - 0s - loss: 0.9080 - accuracy: 0.8551 - val_loss: 0.3635 - val_accuracy: 0.8794 - 479ms/epoch - 3ms/step\n",
      "Epoch 14/50\n",
      "170/170 - 0s - loss: 0.8943 - accuracy: 0.8544 - val_loss: 0.3510 - val_accuracy: 0.8824 - 452ms/epoch - 3ms/step\n",
      "Epoch 15/50\n",
      "170/170 - 0s - loss: 0.8771 - accuracy: 0.8588 - val_loss: 0.3411 - val_accuracy: 0.8824 - 471ms/epoch - 3ms/step\n",
      "Epoch 16/50\n",
      "170/170 - 0s - loss: 0.8636 - accuracy: 0.8618 - val_loss: 0.3351 - val_accuracy: 0.8853 - 462ms/epoch - 3ms/step\n",
      "Epoch 17/50\n",
      "170/170 - 0s - loss: 0.8539 - accuracy: 0.8574 - val_loss: 0.3305 - val_accuracy: 0.8853 - 466ms/epoch - 3ms/step\n",
      "Epoch 18/50\n",
      "170/170 - 0s - loss: 0.8398 - accuracy: 0.8647 - val_loss: 0.3245 - val_accuracy: 0.8853 - 454ms/epoch - 3ms/step\n",
      "Epoch 19/50\n",
      "170/170 - 0s - loss: 0.8323 - accuracy: 0.8654 - val_loss: 0.3191 - val_accuracy: 0.8882 - 463ms/epoch - 3ms/step\n",
      "Epoch 20/50\n",
      "170/170 - 0s - loss: 0.8240 - accuracy: 0.8640 - val_loss: 0.3188 - val_accuracy: 0.8882 - 468ms/epoch - 3ms/step\n",
      "Epoch 21/50\n",
      "170/170 - 0s - loss: 0.8116 - accuracy: 0.8596 - val_loss: 0.3181 - val_accuracy: 0.8912 - 466ms/epoch - 3ms/step\n",
      "Epoch 22/50\n",
      "170/170 - 0s - loss: 0.8051 - accuracy: 0.8647 - val_loss: 0.3144 - val_accuracy: 0.8912 - 452ms/epoch - 3ms/step\n",
      "Epoch 23/50\n",
      "170/170 - 0s - loss: 0.7941 - accuracy: 0.8640 - val_loss: 0.3062 - val_accuracy: 0.8912 - 452ms/epoch - 3ms/step\n",
      "Epoch 24/50\n",
      "170/170 - 0s - loss: 0.7940 - accuracy: 0.8654 - val_loss: 0.3086 - val_accuracy: 0.8853 - 466ms/epoch - 3ms/step\n",
      "Epoch 25/50\n",
      "170/170 - 0s - loss: 0.7858 - accuracy: 0.8669 - val_loss: 0.3045 - val_accuracy: 0.8882 - 467ms/epoch - 3ms/step\n",
      "Epoch 26/50\n",
      "170/170 - 0s - loss: 0.7809 - accuracy: 0.8684 - val_loss: 0.3020 - val_accuracy: 0.8853 - 462ms/epoch - 3ms/step\n",
      "Epoch 27/50\n",
      "170/170 - 0s - loss: 0.7750 - accuracy: 0.8669 - val_loss: 0.3013 - val_accuracy: 0.8882 - 477ms/epoch - 3ms/step\n",
      "Epoch 28/50\n",
      "170/170 - 0s - loss: 0.7737 - accuracy: 0.8632 - val_loss: 0.2975 - val_accuracy: 0.8941 - 463ms/epoch - 3ms/step\n",
      "Epoch 29/50\n",
      "170/170 - 0s - loss: 0.7653 - accuracy: 0.8699 - val_loss: 0.2919 - val_accuracy: 0.8912 - 471ms/epoch - 3ms/step\n",
      "Epoch 30/50\n",
      "170/170 - 0s - loss: 0.7587 - accuracy: 0.8676 - val_loss: 0.2957 - val_accuracy: 0.8882 - 483ms/epoch - 3ms/step\n",
      "Epoch 31/50\n",
      "170/170 - 0s - loss: 0.7532 - accuracy: 0.8728 - val_loss: 0.2918 - val_accuracy: 0.8912 - 483ms/epoch - 3ms/step\n",
      "Epoch 32/50\n",
      "170/170 - 0s - loss: 0.7515 - accuracy: 0.8691 - val_loss: 0.2923 - val_accuracy: 0.8941 - 475ms/epoch - 3ms/step\n",
      "Epoch 33/50\n",
      "170/170 - 0s - loss: 0.7391 - accuracy: 0.8721 - val_loss: 0.2925 - val_accuracy: 0.8794 - 476ms/epoch - 3ms/step\n",
      "Epoch 34/50\n",
      "170/170 - 1s - loss: 0.7419 - accuracy: 0.8757 - val_loss: 0.2903 - val_accuracy: 0.8971 - 509ms/epoch - 3ms/step\n",
      "Epoch 35/50\n",
      "170/170 - 1s - loss: 0.7361 - accuracy: 0.8743 - val_loss: 0.2912 - val_accuracy: 0.9000 - 522ms/epoch - 3ms/step\n",
      "Epoch 36/50\n",
      "170/170 - 1s - loss: 0.7349 - accuracy: 0.8654 - val_loss: 0.2835 - val_accuracy: 0.8882 - 524ms/epoch - 3ms/step\n",
      "Epoch 37/50\n",
      "170/170 - 1s - loss: 0.7298 - accuracy: 0.8721 - val_loss: 0.2853 - val_accuracy: 0.8882 - 519ms/epoch - 3ms/step\n",
      "Epoch 38/50\n",
      "170/170 - 1s - loss: 0.7247 - accuracy: 0.8801 - val_loss: 0.2890 - val_accuracy: 0.8912 - 580ms/epoch - 3ms/step\n",
      "Epoch 39/50\n",
      "170/170 - 1s - loss: 0.7129 - accuracy: 0.8713 - val_loss: 0.2841 - val_accuracy: 0.8941 - 599ms/epoch - 4ms/step\n",
      "Epoch 40/50\n",
      "170/170 - 1s - loss: 0.7125 - accuracy: 0.8743 - val_loss: 0.2833 - val_accuracy: 0.8853 - 569ms/epoch - 3ms/step\n",
      "Epoch 41/50\n",
      "170/170 - 1s - loss: 0.7113 - accuracy: 0.8794 - val_loss: 0.2852 - val_accuracy: 0.8912 - 536ms/epoch - 3ms/step\n",
      "Epoch 42/50\n",
      "170/170 - 1s - loss: 0.7022 - accuracy: 0.8787 - val_loss: 0.2863 - val_accuracy: 0.8971 - 519ms/epoch - 3ms/step\n",
      "Epoch 43/50\n",
      "170/170 - 0s - loss: 0.7000 - accuracy: 0.8743 - val_loss: 0.2843 - val_accuracy: 0.8971 - 475ms/epoch - 3ms/step\n",
      "Epoch 44/50\n",
      "170/170 - 0s - loss: 0.6974 - accuracy: 0.8809 - val_loss: 0.2870 - val_accuracy: 0.8941 - 450ms/epoch - 3ms/step\n",
      "Epoch 45/50\n",
      "170/170 - 0s - loss: 0.6953 - accuracy: 0.8743 - val_loss: 0.2835 - val_accuracy: 0.8912 - 458ms/epoch - 3ms/step\n",
      "Epoch 46/50\n",
      "170/170 - 0s - loss: 0.6906 - accuracy: 0.8801 - val_loss: 0.2835 - val_accuracy: 0.8941 - 456ms/epoch - 3ms/step\n",
      "Epoch 47/50\n",
      "170/170 - 0s - loss: 0.6842 - accuracy: 0.8772 - val_loss: 0.2838 - val_accuracy: 0.9000 - 473ms/epoch - 3ms/step\n",
      "Epoch 48/50\n",
      "170/170 - 0s - loss: 0.6810 - accuracy: 0.8757 - val_loss: 0.2814 - val_accuracy: 0.8941 - 462ms/epoch - 3ms/step\n",
      "Epoch 49/50\n",
      "170/170 - 0s - loss: 0.6783 - accuracy: 0.8794 - val_loss: 0.2858 - val_accuracy: 0.8941 - 467ms/epoch - 3ms/step\n",
      "Epoch 50/50\n",
      "170/170 - 0s - loss: 0.6765 - accuracy: 0.8801 - val_loss: 0.2855 - val_accuracy: 0.8941 - 468ms/epoch - 3ms/step\n"
     ]
    }
   ],
   "source": [
    "class_weights = {0:1, 1:6, 2:7}\n",
    "\n",
    "history = model.fit(X_train, y_train,\n",
    "                    batch_size = 8, epochs= 50,  \n",
    "                    verbose=2, class_weight=class_weights,\n",
    "                    validation_split=0.2)\n"
   ]
  },
  {
   "cell_type": "code",
   "execution_count": 15,
   "metadata": {
    "colab": {
     "base_uri": "https://localhost:8080/",
     "height": 298
    },
    "id": "LTu9TgnVdhfd",
    "outputId": "0fb8cf4c-efc8-4f93-bbf3-f9eee9475ae6"
   },
   "outputs": [
    {
     "data": {
      "text/plain": [
       "<matplotlib.legend.Legend at 0x22c8c197070>"
      ]
     },
     "execution_count": 15,
     "metadata": {},
     "output_type": "execute_result"
    },
    {
     "data": {
      "image/png": "[encoded data removed]",
      "text/plain": [
       "<Figure size 640x480 with 1 Axes>"
      ]
     },
     "metadata": {},
     "output_type": "display_data"
    }
   ],
   "source": [
    "accuracy = history.history['accuracy']\n",
    "validation_accuracy = history.history['val_accuracy']\n",
    "\n",
    "plt.plot(accuracy, label='Training Set Accuracy') \n",
    "plt.plot(validation_accuracy, label='Validation Set Accuracy') \n",
    "plt.ylabel('Accuracy')\n",
    "plt.ylim([min(plt.ylim()),1])\n",
    "plt.title('Training and Validation Accuracy Across Epochs')\n",
    "plt.legend()\n"
   ]
  },
  {
   "cell_type": "code",
   "execution_count": 16,
   "metadata": {
    "colab": {
     "base_uri": "https://localhost:8080/",
     "height": 298
    },
    "id": "VZrQsAvpeGr8",
    "outputId": "00ce1eb4-ca9c-4bdc-f07a-a9519954e978"
   },
   "outputs": [
    {
     "data": {
      "text/plain": [
       "<matplotlib.legend.Legend at 0x22c8e7d8130>"
      ]
     },
     "execution_count": 16,
     "metadata": {},
     "output_type": "execute_result"
    },
    {
     "data": {
      "image/png": "[encoded data removed]",
      "text/plain": [
       "<Figure size 640x480 with 1 Axes>"
      ]
     },
     "metadata": {},
     "output_type": "display_data"
    }
   ],
   "source": [
    "loss = history.history['loss']\n",
    "validation_loss = history.history['val_loss']\n",
    "\n",
    "plt.plot(loss, label='Training Set Loss') \n",
    "plt.plot(validation_loss, label='Validation Set Loss') \n",
    "plt.ylabel('Loss')\n",
    "plt.title('Training and Validation Accuracy Across Epochs')\n",
    "plt.legend()\n"
   ]
  },
  {
   "cell_type": "code",
   "execution_count": 17,
   "metadata": {
    "id": "8oVRBpyreejs"
   },
   "outputs": [],
   "source": [
    "from sklearn.metrics import confusion_matrix, classification_report"
   ]
  },
  {
   "cell_type": "code",
   "execution_count": 18,
   "metadata": {
    "colab": {
     "base_uri": "https://localhost:8080/"
    },
    "id": "1tc1frXmelL-",
    "outputId": "d599e818-16d7-451b-dcc5-a555df19d14e"
   },
   "outputs": [
    {
     "name": "stdout",
     "output_type": "stream",
     "text": [
      "14/14 [==============================] - 0s 3ms/step\n"
     ]
    }
   ],
   "source": [
    "y_pred = model.predict(X_test) \n",
    "y_pred = y_pred.argmax(axis=1)"
   ]
  },
  {
   "cell_type": "code",
   "execution_count": 19,
   "metadata": {
    "colab": {
     "base_uri": "https://localhost:8080/",
     "height": 298
    },
    "id": "C3jWTkh_ep-1",
    "outputId": "a233acc9-97aa-4586-d392-cdf0698540f6"
   },
   "outputs": [
    {
     "data": {
      "image/png": "[encoded data removed]",
      "text/plain": [
       "<Figure size 640x480 with 2 Axes>"
      ]
     },
     "metadata": {},
     "output_type": "display_data"
    }
   ],
   "source": [
    "confusion_matrix = confusion_matrix(y_test,y_pred)\n",
    "\n",
    "ax = sns.heatmap(confusion_matrix, cmap='flare',annot=True, fmt='d')\n",
    "\n",
    "plt.xlabel(\"Predicted Class\",fontsize=12) \n",
    "plt.ylabel(\"True Class\",fontsize=12) \n",
    "plt.title(\"Confusion Matrix\",fontsize=12)\n",
    "\n",
    "plt.show()\n"
   ]
  },
  {
   "cell_type": "code",
   "execution_count": 20,
   "metadata": {
    "colab": {
     "base_uri": "https://localhost:8080/"
    },
    "id": "g6sZJ-iae2Ps",
    "outputId": "908092aa-3a9a-433e-c281-a4cfaf073957"
   },
   "outputs": [
    {
     "name": "stdout",
     "output_type": "stream",
     "text": [
      "              precision    recall  f1-score   support\n",
      "\n",
      "           0       0.98      0.85      0.91       332\n",
      "           1       0.50      0.85      0.63        59\n",
      "           2       0.64      0.71      0.68        35\n",
      "\n",
      "    accuracy                           0.84       426\n",
      "   macro avg       0.71      0.80      0.74       426\n",
      "weighted avg       0.89      0.84      0.85       426\n",
      "\n"
     ]
    }
   ],
   "source": [
    "print(classification_report(y_test,y_pred))"
   ]
  },
  {
   "cell_type": "code",
   "execution_count": null,
   "metadata": {
    "id": "AiiJmOqGe588"
   },
   "outputs": [],
   "source": []
  }
 ],
 "metadata": {
  "accelerator": "GPU",
  "colab": {
   "provenance": []
  },
  "gpuClass": "standard",
  "kernelspec": {
   "display_name": "Python 3 (ipykernel)",
   "language": "python",
   "name": "python3"
  },
  "language_info": {
   "codemirror_mode": {
    "name": "ipython",
    "version": 3
   },
   "file_extension": ".py",
   "mimetype": "text/x-python",
   "name": "python",
   "nbconvert_exporter": "python",
   "pygments_lexer": "ipython3",
   "version": "3.9.13"
  }
 },
 "nbformat": 4,
 "nbformat_minor": 1
}
